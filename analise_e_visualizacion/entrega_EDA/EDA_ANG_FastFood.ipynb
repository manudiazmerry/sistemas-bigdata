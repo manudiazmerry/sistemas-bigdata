{
 "cells": [
  {
   "cell_type": "markdown",
   "metadata": {
    "id": "KXlkcBBo6KSq"
   },
   "source": [
    "### Alejandro de Nicolás Gómez"
   ]
  },
  {
   "cell_type": "markdown",
   "metadata": {
    "id": "ngHFOnjj6MNy"
   },
   "source": [
    "# EXERCICIO DAE - Fast Food Restaurants Across America"
   ]
  },
  {
   "cell_type": "markdown",
   "metadata": {
    "id": "zfP31MW-67T4"
   },
   "source": [
    "## Enunciado da tarefa"
   ]
  },
  {
   "cell_type": "markdown",
   "metadata": {
    "id": "ZfGchh6U8XrY"
   },
   "source": [
    "Ao longo das anteriores prácticas traballouse con algunhas das diferentes ferramentas e técnicas que proporciona Python para o análise e tratamento de datos. Agora que xa coñeces as ferramentas é o momento de aplicalas para analizar un conxunto de datos.\n",
    "\n",
    "O proceso de análise exploratorio de datos non é un camiño predefinido no que seguir uns pasos, polo que podes encontrar moitos exemplos diferentes que seguen pasos diferentes. Lembra que o obxectivo do EDA é coñecer mellor os datos, extraer información significativa que nos sirva para outros propósitos (por exemplo, para obter mellores modelos predictivos, entrenamentos mais efectivos, ...).\n",
    "\n",
    "Algúns dos pasos que nos encontramos nunha análise EDA son:\n",
    "\n",
    "* Descrición dos datos; significado dos diferentes campos\n",
    "* Tipos de datos; verificar os tipos dos datos\n",
    "* Mostrar datos de exemplo\n",
    "* Cálculo de estatísticos descritivos\n",
    "* Tratamento de outliers\n",
    "* Impacto dos valores ausentes\n",
    "* Gráficas"
   ]
  },
  {
   "cell_type": "markdown",
   "metadata": {
    "id": "mPi1rqXQ-vkY"
   },
   "source": [
    "## Exemplos contidos na páxina de descarga do csv"
   ]
  },
  {
   "cell_type": "markdown",
   "metadata": {
    "id": "37Zx1RaQ-30h"
   },
   "source": [
    "You can use this data to rank cities with the most and least fast food restaurants across the U.S. E.g.:\n",
    "\n",
    "    Cities with the most and least McDonald's per capita\n",
    "    Fast food restaurants per capita for all states\n",
    "    Fast food restaurants with the most locations nationally\n",
    "    Major cities with the most and least fast food restaurants per capita\n",
    "    Small cities with the most fast food restaurants per capita\n",
    "    States with the most and least fast food restaurants per capita\n",
    "    The number of fast food restaurants per capita\n"
   ]
  },
  {
   "cell_type": "markdown",
   "metadata": {
    "id": "nQa7gBdO05kN"
   },
   "source": [
    "```\n",
    "Analyze Country in relation to Date Added\n",
    "Study the influence of Name on Longitude\n",
    "```\n",
    "\n"
   ]
  },
  {
   "cell_type": "markdown",
   "metadata": {
    "id": "4gthnIgO6PSh"
   },
   "source": [
    "# EXERCICIO DAE"
   ]
  },
  {
   "cell_type": "markdown",
   "metadata": {
    "id": "UcWGNVAj9t3a"
   },
   "source": [
    "## Descripción inicial do dataset"
   ]
  },
  {
   "cell_type": "markdown",
   "metadata": {
    "id": "8io2fSWI8ACA"
   },
   "source": [
    " Este dataset é unha lista de 10000 restaurantes de comida rápida sacadas do \"Datafiniti's Business Database\".\n",
    "\n",
    " [Enlace ao dataset](https://www.kaggle.com/yamqwe/fast-food-restaurants-across-americae?select=FastFoodRestaurants.csv)"
   ]
  },
  {
   "cell_type": "markdown",
   "metadata": {
    "id": "cmhCVyNh6lM6"
   },
   "source": [
    "As columnas que contén son:\n",
    "* **city:**       cidade onde se atopa o restaurante\n",
    "* **country:**    pais onde se atopa o restaurante\n",
    "* **keys:**       \n",
    "* **latitude**    \n",
    "* **longitude**   \n",
    "* **name:**       nome do restaurante\n",
    "* **postalCode:** código postal do restaurante\n",
    "* **province:**   estado onde se atopa o restaurante\n",
    "* **sourceURLs:**\n",
    "* **websites:**"
   ]
  },
  {
   "cell_type": "markdown",
   "metadata": {
    "id": "Xi4PoXiR6vYp"
   },
   "source": [
    "## Carga de datos"
   ]
  },
  {
   "cell_type": "markdown",
   "metadata": {
    "id": "CY-fUkVQ7PkZ"
   },
   "source": [
    "Acceso a colab desde drive"
   ]
  },
  {
   "cell_type": "code",
   "execution_count": 1,
   "metadata": {
    "colab": {
     "base_uri": "https://localhost:8080/"
    },
    "executionInfo": {
     "elapsed": 303773,
     "status": "ok",
     "timestamp": 1645473374095,
     "user": {
      "displayName": "Alejandro de Nicolás Gómez",
      "photoUrl": "https://lh3.googleusercontent.com/a-/AOh14Gh03ewBLwb-Yoi0H0aNW6rxS0A0MnSiXeSc5PWw=s64",
      "userId": "01925498379162565234"
     },
     "user_tz": -60
    },
    "id": "cDZz2gJf67px",
    "outputId": "4dfeb1ce-84f1-45e5-f688-b2cd215b8d09"
   },
   "outputs": [],
   "source": [
    "#from google.colab import drive;\n",
    "#drive.mount('/content/drive')"
   ]
  },
  {
   "cell_type": "markdown",
   "metadata": {
    "id": "Tz8V55vm6XKS"
   },
   "source": [
    "Imports"
   ]
  },
  {
   "cell_type": "code",
   "execution_count": 2,
   "metadata": {
    "id": "0wt-ir7n6KsJ"
   },
   "outputs": [],
   "source": [
    "import seaborn as sns\n",
    "import numpy as np\n",
    "import pandas as pd\n",
    "import matplotlib.pyplot as plt"
   ]
  },
  {
   "cell_type": "markdown",
   "metadata": {
    "id": "8Gu5CT9F7yZP"
   },
   "source": [
    "Para non ver notación científica en pandas"
   ]
  },
  {
   "cell_type": "code",
   "execution_count": 3,
   "metadata": {
    "id": "1fnIq0ka7yun"
   },
   "outputs": [],
   "source": [
    "pd.set_option('display.float_format',lambda x: '%.3f' % x)"
   ]
  },
  {
   "cell_type": "markdown",
   "metadata": {
    "id": "v_m5xJJ87RrR"
   },
   "source": [
    "Carga do CSV"
   ]
  },
  {
   "cell_type": "code",
   "execution_count": 4,
   "metadata": {
    "id": "fF0Q5uaE7SNp"
   },
   "outputs": [],
   "source": [
    "#fastFood = pd.read_csv(\"/content/drive/MyDrive/SistemasBigData/Datafiniti_Fast_Food_Restaurants.csv\");\n",
    "fastFood = pd.read_csv(\"./datasets/Datafiniti_Fast_Food_Restaurants.csv\");"
   ]
  },
  {
   "cell_type": "markdown",
   "metadata": {
    "id": "s-1djd-w8DWB"
   },
   "source": [
    "## Estudo xeral dos datos"
   ]
  },
  {
   "cell_type": "markdown",
   "metadata": {
    "id": "uNcevBOb8JRp"
   },
   "source": [
    "Vemos como está estruturada a táboa de datos"
   ]
  },
  {
   "cell_type": "code",
   "execution_count": 5,
   "metadata": {
    "colab": {
     "base_uri": "https://localhost:8080/"
    },
    "executionInfo": {
     "elapsed": 15,
     "status": "ok",
     "timestamp": 1645473375340,
     "user": {
      "displayName": "Alejandro de Nicolás Gómez",
      "photoUrl": "https://lh3.googleusercontent.com/a-/AOh14Gh03ewBLwb-Yoi0H0aNW6rxS0A0MnSiXeSc5PWw=s64",
      "userId": "01925498379162565234"
     },
     "user_tz": -60
    },
    "id": "s2wWNsKx_P3e",
    "outputId": "d7e32ffe-c4a1-4cdd-c424-f1e220a8d1cf"
   },
   "outputs": [
    {
     "data": {
      "text/plain": [
       "(10000, 16)"
      ]
     },
     "execution_count": 5,
     "metadata": {},
     "output_type": "execute_result"
    }
   ],
   "source": [
    "fastFood.shape"
   ]
  },
  {
   "cell_type": "code",
   "execution_count": 6,
   "metadata": {
    "colab": {
     "base_uri": "https://localhost:8080/",
     "height": 462
    },
    "executionInfo": {
     "elapsed": 14,
     "status": "ok",
     "timestamp": 1645473375341,
     "user": {
      "displayName": "Alejandro de Nicolás Gómez",
      "photoUrl": "https://lh3.googleusercontent.com/a-/AOh14Gh03ewBLwb-Yoi0H0aNW6rxS0A0MnSiXeSc5PWw=s64",
      "userId": "01925498379162565234"
     },
     "user_tz": -60
    },
    "id": "s6ThzkkQ6Y8i",
    "outputId": "cd798353-b4cb-4a1f-a56f-4a6c2d9fa640"
   },
   "outputs": [
    {
     "data": {
      "text/html": [
       "<div>\n",
       "<style scoped>\n",
       "    .dataframe tbody tr th:only-of-type {\n",
       "        vertical-align: middle;\n",
       "    }\n",
       "\n",
       "    .dataframe tbody tr th {\n",
       "        vertical-align: top;\n",
       "    }\n",
       "\n",
       "    .dataframe thead th {\n",
       "        text-align: right;\n",
       "    }\n",
       "</style>\n",
       "<table border=\"1\" class=\"dataframe\">\n",
       "  <thead>\n",
       "    <tr style=\"text-align: right;\">\n",
       "      <th></th>\n",
       "      <th>index</th>\n",
       "      <th>id</th>\n",
       "      <th>dateAdded</th>\n",
       "      <th>dateUpdated</th>\n",
       "      <th>address</th>\n",
       "      <th>categories</th>\n",
       "      <th>city</th>\n",
       "      <th>country</th>\n",
       "      <th>keys</th>\n",
       "      <th>latitude</th>\n",
       "      <th>longitude</th>\n",
       "      <th>name</th>\n",
       "      <th>postalCode</th>\n",
       "      <th>province</th>\n",
       "      <th>sourceURLs</th>\n",
       "      <th>websites</th>\n",
       "    </tr>\n",
       "  </thead>\n",
       "  <tbody>\n",
       "    <tr>\n",
       "      <th>9062</th>\n",
       "      <td>9062</td>\n",
       "      <td>AVwefaDbkufWRAb5Dalf</td>\n",
       "      <td>2016-04-02T05:40:14Z</td>\n",
       "      <td>2018-04-18T14:15:33Z</td>\n",
       "      <td>680 N Main St</td>\n",
       "      <td>Fast Food Restaurants</td>\n",
       "      <td>Mansfield</td>\n",
       "      <td>US</td>\n",
       "      <td>us/oh/mansfield/680nmainst/-891525969</td>\n",
       "      <td>40.778</td>\n",
       "      <td>-82.514</td>\n",
       "      <td>SUBWAY</td>\n",
       "      <td>44902</td>\n",
       "      <td>OH</td>\n",
       "      <td>https://foursquare.com/v/subway/4fa9e065754aec...</td>\n",
       "      <td>http://www.subway.com,http://subway.com\\r</td>\n",
       "    </tr>\n",
       "    <tr>\n",
       "      <th>2161</th>\n",
       "      <td>2161</td>\n",
       "      <td>AVwdmf5-IN2L1WUfxbty</td>\n",
       "      <td>2016-03-12T19:21:34Z</td>\n",
       "      <td>2018-06-17T23:15:55Z</td>\n",
       "      <td>520 E Walton Blvd</td>\n",
       "      <td>Fast Food Restaurant</td>\n",
       "      <td>Pontiac</td>\n",
       "      <td>US</td>\n",
       "      <td>us/mi/pontiac/520ewaltonblvd/-1161002137</td>\n",
       "      <td>42.677</td>\n",
       "      <td>-83.282</td>\n",
       "      <td>McDonald's</td>\n",
       "      <td>48340</td>\n",
       "      <td>MI</td>\n",
       "      <td>https://foursquare.com/v/mcdonalds/4c47b84931e...</td>\n",
       "      <td>http://mcdonalds.com,http://www.mcdonalds.com/...</td>\n",
       "    </tr>\n",
       "    <tr>\n",
       "      <th>5758</th>\n",
       "      <td>5758</td>\n",
       "      <td>AVwdeP1KkufWRAb56QDl</td>\n",
       "      <td>2015-10-23T01:07:09Z</td>\n",
       "      <td>2018-05-28T16:24:30Z</td>\n",
       "      <td>1409 Broadway</td>\n",
       "      <td>Fried Chicken Joint and Fast Food Restaurant M...</td>\n",
       "      <td>Gary</td>\n",
       "      <td>US</td>\n",
       "      <td>us/in/gary/1409broadway/-1696991095</td>\n",
       "      <td>41.589</td>\n",
       "      <td>-87.337</td>\n",
       "      <td>Church's Chicken</td>\n",
       "      <td>46407</td>\n",
       "      <td>IN</td>\n",
       "      <td>http://www.yellowbook.com/profile/churchs-chic...</td>\n",
       "      <td>http://churchs.com,http://www.churchs.com\\r</td>\n",
       "    </tr>\n",
       "    <tr>\n",
       "      <th>8129</th>\n",
       "      <td>8129</td>\n",
       "      <td>AVwcpOTN_7pvs4fzxZid</td>\n",
       "      <td>2016-05-19T00:47:54Z</td>\n",
       "      <td>2018-05-01T23:12:54Z</td>\n",
       "      <td>8321 200th Ave</td>\n",
       "      <td>Fast Food Restaurants</td>\n",
       "      <td>Bristol</td>\n",
       "      <td>US</td>\n",
       "      <td>us/wi/bristol/8321200thave/-1531774050</td>\n",
       "      <td>42.556</td>\n",
       "      <td>-88.050</td>\n",
       "      <td>Bristol 45 Diner</td>\n",
       "      <td>53104</td>\n",
       "      <td>WI</td>\n",
       "      <td>https://www.yellowpages.com/bristol-wi/mip/bri...</td>\n",
       "      <td>http://bristol45diner.com,http://www.bristol45...</td>\n",
       "    </tr>\n",
       "    <tr>\n",
       "      <th>1001</th>\n",
       "      <td>1001</td>\n",
       "      <td>AV1dNY2TIxWefVJwe01C</td>\n",
       "      <td>2017-07-19T23:36:16Z</td>\n",
       "      <td>2018-06-22T18:21:07Z</td>\n",
       "      <td>2350 2nd Ave SE</td>\n",
       "      <td>Fast Food Restaurant</td>\n",
       "      <td>Cambridge</td>\n",
       "      <td>US</td>\n",
       "      <td>us/mn/cambridge/23502ndavese/93075755</td>\n",
       "      <td>45.572</td>\n",
       "      <td>-93.195</td>\n",
       "      <td>Arby's</td>\n",
       "      <td>55008</td>\n",
       "      <td>MN</td>\n",
       "      <td>https://www.allmenus.com/mn/cambridge/210849-a...</td>\n",
       "      <td>http://www.arbys.com,https://locations.arbys.c...</td>\n",
       "    </tr>\n",
       "  </tbody>\n",
       "</table>\n",
       "</div>"
      ],
      "text/plain": [
       "      index                    id             dateAdded           dateUpdated  \\\n",
       "9062   9062  AVwefaDbkufWRAb5Dalf  2016-04-02T05:40:14Z  2018-04-18T14:15:33Z   \n",
       "2161   2161  AVwdmf5-IN2L1WUfxbty  2016-03-12T19:21:34Z  2018-06-17T23:15:55Z   \n",
       "5758   5758  AVwdeP1KkufWRAb56QDl  2015-10-23T01:07:09Z  2018-05-28T16:24:30Z   \n",
       "8129   8129  AVwcpOTN_7pvs4fzxZid  2016-05-19T00:47:54Z  2018-05-01T23:12:54Z   \n",
       "1001   1001  AV1dNY2TIxWefVJwe01C  2017-07-19T23:36:16Z  2018-06-22T18:21:07Z   \n",
       "\n",
       "                address                                         categories  \\\n",
       "9062      680 N Main St                              Fast Food Restaurants   \n",
       "2161  520 E Walton Blvd                               Fast Food Restaurant   \n",
       "5758      1409 Broadway  Fried Chicken Joint and Fast Food Restaurant M...   \n",
       "8129     8321 200th Ave                              Fast Food Restaurants   \n",
       "1001    2350 2nd Ave SE                               Fast Food Restaurant   \n",
       "\n",
       "           city country                                      keys  latitude  \\\n",
       "9062  Mansfield      US     us/oh/mansfield/680nmainst/-891525969    40.778   \n",
       "2161    Pontiac      US  us/mi/pontiac/520ewaltonblvd/-1161002137    42.677   \n",
       "5758       Gary      US       us/in/gary/1409broadway/-1696991095    41.589   \n",
       "8129    Bristol      US    us/wi/bristol/8321200thave/-1531774050    42.556   \n",
       "1001  Cambridge      US     us/mn/cambridge/23502ndavese/93075755    45.572   \n",
       "\n",
       "      longitude              name postalCode province  \\\n",
       "9062    -82.514            SUBWAY      44902       OH   \n",
       "2161    -83.282        McDonald's      48340       MI   \n",
       "5758    -87.337  Church's Chicken      46407       IN   \n",
       "8129    -88.050  Bristol 45 Diner      53104       WI   \n",
       "1001    -93.195            Arby's      55008       MN   \n",
       "\n",
       "                                             sourceURLs  \\\n",
       "9062  https://foursquare.com/v/subway/4fa9e065754aec...   \n",
       "2161  https://foursquare.com/v/mcdonalds/4c47b84931e...   \n",
       "5758  http://www.yellowbook.com/profile/churchs-chic...   \n",
       "8129  https://www.yellowpages.com/bristol-wi/mip/bri...   \n",
       "1001  https://www.allmenus.com/mn/cambridge/210849-a...   \n",
       "\n",
       "                                               websites  \n",
       "9062          http://www.subway.com,http://subway.com\\r  \n",
       "2161  http://mcdonalds.com,http://www.mcdonalds.com/...  \n",
       "5758        http://churchs.com,http://www.churchs.com\\r  \n",
       "8129  http://bristol45diner.com,http://www.bristol45...  \n",
       "1001  http://www.arbys.com,https://locations.arbys.c...  "
      ]
     },
     "execution_count": 6,
     "metadata": {},
     "output_type": "execute_result"
    }
   ],
   "source": [
    "fastFood.sample(5)"
   ]
  },
  {
   "cell_type": "markdown",
   "metadata": {
    "id": "L4BwcqQI8jqh"
   },
   "source": [
    "Vemos con mas detalle as columnas"
   ]
  },
  {
   "cell_type": "code",
   "execution_count": 7,
   "metadata": {
    "colab": {
     "base_uri": "https://localhost:8080/"
    },
    "executionInfo": {
     "elapsed": 14,
     "status": "ok",
     "timestamp": 1645473375342,
     "user": {
      "displayName": "Alejandro de Nicolás Gómez",
      "photoUrl": "https://lh3.googleusercontent.com/a-/AOh14Gh03ewBLwb-Yoi0H0aNW6rxS0A0MnSiXeSc5PWw=s64",
      "userId": "01925498379162565234"
     },
     "user_tz": -60
    },
    "id": "MQcKKCFO8G2Y",
    "outputId": "3247d289-4e76-4c19-f323-3c4836a7bfd3"
   },
   "outputs": [
    {
     "name": "stdout",
     "output_type": "stream",
     "text": [
      "<class 'pandas.core.frame.DataFrame'>\n",
      "RangeIndex: 10000 entries, 0 to 9999\n",
      "Data columns (total 16 columns):\n",
      " #   Column       Non-Null Count  Dtype  \n",
      "---  ------       --------------  -----  \n",
      " 0   index        10000 non-null  int64  \n",
      " 1   id           10000 non-null  object \n",
      " 2   dateAdded    10000 non-null  object \n",
      " 3   dateUpdated  10000 non-null  object \n",
      " 4   address      10000 non-null  object \n",
      " 5   categories   10000 non-null  object \n",
      " 6   city         10000 non-null  object \n",
      " 7   country      10000 non-null  object \n",
      " 8   keys         10000 non-null  object \n",
      " 9   latitude     10000 non-null  float64\n",
      " 10  longitude    10000 non-null  float64\n",
      " 11  name         10000 non-null  object \n",
      " 12  postalCode   10000 non-null  object \n",
      " 13  province     10000 non-null  object \n",
      " 14  sourceURLs   10000 non-null  object \n",
      " 15  websites     10000 non-null  object \n",
      "dtypes: float64(2), int64(1), object(13)\n",
      "memory usage: 1.2+ MB\n"
     ]
    }
   ],
   "source": [
    "#Con info, podemos ver que non temos diferencias no número de datos nulos en cada campo\n",
    "#Tamén vemos que temos 3 columnas numéricas e 13 de tipo texto\n",
    "\n",
    "fastFood.info()"
   ]
  },
  {
   "cell_type": "code",
   "execution_count": 8,
   "metadata": {
    "colab": {
     "base_uri": "https://localhost:8080/",
     "height": 301
    },
    "executionInfo": {
     "elapsed": 14,
     "status": "ok",
     "timestamp": 1645473375343,
     "user": {
      "displayName": "Alejandro de Nicolás Gómez",
      "photoUrl": "https://lh3.googleusercontent.com/a-/AOh14Gh03ewBLwb-Yoi0H0aNW6rxS0A0MnSiXeSc5PWw=s64",
      "userId": "01925498379162565234"
     },
     "user_tz": -60
    },
    "id": "t3BWRXqf8xRI",
    "outputId": "706fe950-c08d-4783-d514-8cc4aa7463b5"
   },
   "outputs": [
    {
     "data": {
      "text/html": [
       "<div>\n",
       "<style scoped>\n",
       "    .dataframe tbody tr th:only-of-type {\n",
       "        vertical-align: middle;\n",
       "    }\n",
       "\n",
       "    .dataframe tbody tr th {\n",
       "        vertical-align: top;\n",
       "    }\n",
       "\n",
       "    .dataframe thead th {\n",
       "        text-align: right;\n",
       "    }\n",
       "</style>\n",
       "<table border=\"1\" class=\"dataframe\">\n",
       "  <thead>\n",
       "    <tr style=\"text-align: right;\">\n",
       "      <th></th>\n",
       "      <th>index</th>\n",
       "      <th>latitude</th>\n",
       "      <th>longitude</th>\n",
       "    </tr>\n",
       "  </thead>\n",
       "  <tbody>\n",
       "    <tr>\n",
       "      <th>count</th>\n",
       "      <td>10000.000</td>\n",
       "      <td>10000.000</td>\n",
       "      <td>10000.000</td>\n",
       "    </tr>\n",
       "    <tr>\n",
       "      <th>mean</th>\n",
       "      <td>4999.500</td>\n",
       "      <td>37.337</td>\n",
       "      <td>-93.107</td>\n",
       "    </tr>\n",
       "    <tr>\n",
       "      <th>std</th>\n",
       "      <td>2886.896</td>\n",
       "      <td>5.100</td>\n",
       "      <td>15.788</td>\n",
       "    </tr>\n",
       "    <tr>\n",
       "      <th>min</th>\n",
       "      <td>0.000</td>\n",
       "      <td>19.504</td>\n",
       "      <td>-159.378</td>\n",
       "    </tr>\n",
       "    <tr>\n",
       "      <th>25%</th>\n",
       "      <td>2499.750</td>\n",
       "      <td>33.774</td>\n",
       "      <td>-102.892</td>\n",
       "    </tr>\n",
       "    <tr>\n",
       "      <th>50%</th>\n",
       "      <td>4999.500</td>\n",
       "      <td>37.706</td>\n",
       "      <td>-87.951</td>\n",
       "    </tr>\n",
       "    <tr>\n",
       "      <th>75%</th>\n",
       "      <td>7499.250</td>\n",
       "      <td>41.141</td>\n",
       "      <td>-81.455</td>\n",
       "    </tr>\n",
       "    <tr>\n",
       "      <th>max</th>\n",
       "      <td>9999.000</td>\n",
       "      <td>64.840</td>\n",
       "      <td>-67.463</td>\n",
       "    </tr>\n",
       "  </tbody>\n",
       "</table>\n",
       "</div>"
      ],
      "text/plain": [
       "          index  latitude  longitude\n",
       "count 10000.000 10000.000  10000.000\n",
       "mean   4999.500    37.337    -93.107\n",
       "std    2886.896     5.100     15.788\n",
       "min       0.000    19.504   -159.378\n",
       "25%    2499.750    33.774   -102.892\n",
       "50%    4999.500    37.706    -87.951\n",
       "75%    7499.250    41.141    -81.455\n",
       "max    9999.000    64.840    -67.463"
      ]
     },
     "execution_count": 8,
     "metadata": {},
     "output_type": "execute_result"
    }
   ],
   "source": [
    "#Con describe, podemos ver os estadísticos descritivos das columnas numéricas\n",
    "\n",
    "fastFood.describe()"
   ]
  },
  {
   "cell_type": "code",
   "execution_count": 9,
   "metadata": {
    "colab": {
     "base_uri": "https://localhost:8080/",
     "height": 309
    },
    "executionInfo": {
     "elapsed": 324,
     "status": "ok",
     "timestamp": 1645473375655,
     "user": {
      "displayName": "Alejandro de Nicolás Gómez",
      "photoUrl": "https://lh3.googleusercontent.com/a-/AOh14Gh03ewBLwb-Yoi0H0aNW6rxS0A0MnSiXeSc5PWw=s64",
      "userId": "01925498379162565234"
     },
     "user_tz": -60
    },
    "id": "4UKJhF-K88YZ",
    "outputId": "5f7406f7-d5b8-475c-caa5-783b21753ad3"
   },
   "outputs": [
    {
     "data": {
      "text/html": [
       "<div>\n",
       "<style scoped>\n",
       "    .dataframe tbody tr th:only-of-type {\n",
       "        vertical-align: middle;\n",
       "    }\n",
       "\n",
       "    .dataframe tbody tr th {\n",
       "        vertical-align: top;\n",
       "    }\n",
       "\n",
       "    .dataframe thead th {\n",
       "        text-align: right;\n",
       "    }\n",
       "</style>\n",
       "<table border=\"1\" class=\"dataframe\">\n",
       "  <thead>\n",
       "    <tr style=\"text-align: right;\">\n",
       "      <th></th>\n",
       "      <th>id</th>\n",
       "      <th>dateAdded</th>\n",
       "      <th>dateUpdated</th>\n",
       "      <th>address</th>\n",
       "      <th>categories</th>\n",
       "      <th>city</th>\n",
       "      <th>country</th>\n",
       "      <th>keys</th>\n",
       "      <th>name</th>\n",
       "      <th>postalCode</th>\n",
       "      <th>province</th>\n",
       "      <th>sourceURLs</th>\n",
       "      <th>websites</th>\n",
       "    </tr>\n",
       "  </thead>\n",
       "  <tbody>\n",
       "    <tr>\n",
       "      <th>count</th>\n",
       "      <td>10000</td>\n",
       "      <td>10000</td>\n",
       "      <td>10000</td>\n",
       "      <td>10000</td>\n",
       "      <td>10000</td>\n",
       "      <td>10000</td>\n",
       "      <td>10000</td>\n",
       "      <td>10000</td>\n",
       "      <td>10000</td>\n",
       "      <td>10000</td>\n",
       "      <td>10000</td>\n",
       "      <td>10000</td>\n",
       "      <td>10000</td>\n",
       "    </tr>\n",
       "    <tr>\n",
       "      <th>unique</th>\n",
       "      <td>9343</td>\n",
       "      <td>8960</td>\n",
       "      <td>7052</td>\n",
       "      <td>9302</td>\n",
       "      <td>324</td>\n",
       "      <td>2764</td>\n",
       "      <td>1</td>\n",
       "      <td>9343</td>\n",
       "      <td>571</td>\n",
       "      <td>5429</td>\n",
       "      <td>50</td>\n",
       "      <td>9338</td>\n",
       "      <td>4136</td>\n",
       "    </tr>\n",
       "    <tr>\n",
       "      <th>top</th>\n",
       "      <td>AVwdiX0skufWRAb563Xt</td>\n",
       "      <td>2017-06-19T14:48:37Z</td>\n",
       "      <td>2018-06-19T09:42:27Z</td>\n",
       "      <td>3100 Riverside Dr</td>\n",
       "      <td>Fast Food Restaurant</td>\n",
       "      <td>Houston</td>\n",
       "      <td>US</td>\n",
       "      <td>us/ga/macon/3100riversidedr/93075755</td>\n",
       "      <td>McDonald's</td>\n",
       "      <td>78209</td>\n",
       "      <td>CA</td>\n",
       "      <td>There are too many sourceURLs objects to show....</td>\n",
       "      <td>http://mcdonalds.com,http://www.mcdonalds.com/...</td>\n",
       "    </tr>\n",
       "    <tr>\n",
       "      <th>freq</th>\n",
       "      <td>4</td>\n",
       "      <td>6</td>\n",
       "      <td>12</td>\n",
       "      <td>4</td>\n",
       "      <td>3425</td>\n",
       "      <td>107</td>\n",
       "      <td>10000</td>\n",
       "      <td>4</td>\n",
       "      <td>1898</td>\n",
       "      <td>10</td>\n",
       "      <td>1201</td>\n",
       "      <td>6</td>\n",
       "      <td>830</td>\n",
       "    </tr>\n",
       "  </tbody>\n",
       "</table>\n",
       "</div>"
      ],
      "text/plain": [
       "                          id             dateAdded           dateUpdated  \\\n",
       "count                  10000                 10000                 10000   \n",
       "unique                  9343                  8960                  7052   \n",
       "top     AVwdiX0skufWRAb563Xt  2017-06-19T14:48:37Z  2018-06-19T09:42:27Z   \n",
       "freq                       4                     6                    12   \n",
       "\n",
       "                  address            categories     city country  \\\n",
       "count               10000                 10000    10000   10000   \n",
       "unique               9302                   324     2764       1   \n",
       "top     3100 Riverside Dr  Fast Food Restaurant  Houston      US   \n",
       "freq                    4                  3425      107   10000   \n",
       "\n",
       "                                        keys        name postalCode province  \\\n",
       "count                                  10000       10000      10000    10000   \n",
       "unique                                  9343         571       5429       50   \n",
       "top     us/ga/macon/3100riversidedr/93075755  McDonald's      78209       CA   \n",
       "freq                                       4        1898         10     1201   \n",
       "\n",
       "                                               sourceURLs  \\\n",
       "count                                               10000   \n",
       "unique                                               9338   \n",
       "top     There are too many sourceURLs objects to show....   \n",
       "freq                                                    6   \n",
       "\n",
       "                                                 websites  \n",
       "count                                               10000  \n",
       "unique                                               4136  \n",
       "top     http://mcdonalds.com,http://www.mcdonalds.com/...  \n",
       "freq                                                  830  "
      ]
     },
     "execution_count": 9,
     "metadata": {},
     "output_type": "execute_result"
    }
   ],
   "source": [
    "#Engadindo o include=\"object\", podemos ver estadísticos descritivos das columnas non-numéricas\n",
    "\n",
    "fastFood.describe(include=\"object\")"
   ]
  },
  {
   "cell_type": "markdown",
   "metadata": {
    "id": "bNovKg9z-WOg"
   },
   "source": [
    "## Correlacións"
   ]
  },
  {
   "cell_type": "markdown",
   "metadata": {
    "id": "DkuvFCP6-GYI"
   },
   "source": [
    "Podemos ver a correlación das filas numéricas. Neste caso non é moi interesante porque só temos latitude e lonxitude\n"
   ]
  },
  {
   "cell_type": "code",
   "execution_count": 10,
   "metadata": {
    "colab": {
     "base_uri": "https://localhost:8080/",
     "height": 144
    },
    "executionInfo": {
     "elapsed": 19,
     "status": "ok",
     "timestamp": 1645473375656,
     "user": {
      "displayName": "Alejandro de Nicolás Gómez",
      "photoUrl": "https://lh3.googleusercontent.com/a-/AOh14Gh03ewBLwb-Yoi0H0aNW6rxS0A0MnSiXeSc5PWw=s64",
      "userId": "01925498379162565234"
     },
     "user_tz": -60
    },
    "id": "63OjVoQb-Hvv",
    "outputId": "26f53ba0-a532-4fb4-ca9d-d9e5dc3fdf9d"
   },
   "outputs": [
    {
     "data": {
      "text/html": [
       "<div>\n",
       "<style scoped>\n",
       "    .dataframe tbody tr th:only-of-type {\n",
       "        vertical-align: middle;\n",
       "    }\n",
       "\n",
       "    .dataframe tbody tr th {\n",
       "        vertical-align: top;\n",
       "    }\n",
       "\n",
       "    .dataframe thead th {\n",
       "        text-align: right;\n",
       "    }\n",
       "</style>\n",
       "<table border=\"1\" class=\"dataframe\">\n",
       "  <thead>\n",
       "    <tr style=\"text-align: right;\">\n",
       "      <th></th>\n",
       "      <th>index</th>\n",
       "      <th>latitude</th>\n",
       "      <th>longitude</th>\n",
       "    </tr>\n",
       "  </thead>\n",
       "  <tbody>\n",
       "    <tr>\n",
       "      <th>index</th>\n",
       "      <td>1.000</td>\n",
       "      <td>-0.046</td>\n",
       "      <td>0.043</td>\n",
       "    </tr>\n",
       "    <tr>\n",
       "      <th>latitude</th>\n",
       "      <td>-0.046</td>\n",
       "      <td>1.000</td>\n",
       "      <td>0.072</td>\n",
       "    </tr>\n",
       "    <tr>\n",
       "      <th>longitude</th>\n",
       "      <td>0.043</td>\n",
       "      <td>0.072</td>\n",
       "      <td>1.000</td>\n",
       "    </tr>\n",
       "  </tbody>\n",
       "</table>\n",
       "</div>"
      ],
      "text/plain": [
       "           index  latitude  longitude\n",
       "index      1.000    -0.046      0.043\n",
       "latitude  -0.046     1.000      0.072\n",
       "longitude  0.043     0.072      1.000"
      ]
     },
     "execution_count": 10,
     "metadata": {},
     "output_type": "execute_result"
    }
   ],
   "source": [
    "fastFood.corr()"
   ]
  },
  {
   "cell_type": "markdown",
   "metadata": {
    "id": "Hj9n4zuQDDIO"
   },
   "source": [
    "## Cambios nos datos"
   ]
  },
  {
   "cell_type": "markdown",
   "metadata": {
    "id": "Ordw8Vr4A7z0"
   },
   "source": [
    "É posible que poda mellorar a información do dataset cambiando o tipo de algúns datos"
   ]
  },
  {
   "cell_type": "code",
   "execution_count": 11,
   "metadata": {
    "id": "CcS2Ana2Avo9"
   },
   "outputs": [],
   "source": [
    "#primeiro fago unha copia dos datos con deepcopy, así aseguro que non perdo os iniciais\n",
    "fastFoodCopy = fastFood.copy(deep=True)"
   ]
  },
  {
   "cell_type": "code",
   "execution_count": 12,
   "metadata": {
    "colab": {
     "base_uri": "https://localhost:8080/"
    },
    "executionInfo": {
     "elapsed": 16,
     "status": "ok",
     "timestamp": 1645473375658,
     "user": {
      "displayName": "Alejandro de Nicolás Gómez",
      "photoUrl": "https://lh3.googleusercontent.com/a-/AOh14Gh03ewBLwb-Yoi0H0aNW6rxS0A0MnSiXeSc5PWw=s64",
      "userId": "01925498379162565234"
     },
     "user_tz": -60
    },
    "id": "IqSwrvkBA52l",
    "outputId": "a43ea2c2-958f-4940-f2c2-c1fc2b97994e"
   },
   "outputs": [
    {
     "data": {
      "text/plain": [
       "0    70301\n",
       "1    70301\n",
       "2    37863\n",
       "3    37863\n",
       "4    30260\n",
       "5    48204\n",
       "6    48235\n",
       "7    92056\n",
       "8    11901\n",
       "9    79756\n",
       "Name: postalCode, dtype: object"
      ]
     },
     "execution_count": 12,
     "metadata": {},
     "output_type": "execute_result"
    }
   ],
   "source": [
    "#parece que todos os códigos postais son numéricos, pero algúns teñen información extra\n",
    "#en formato \"#####-####\"\n",
    "#podo probar a cambialos porque parece que non perdería moita información\n",
    "fastFoodCopy['postalCode'].head(10)"
   ]
  },
  {
   "cell_type": "code",
   "execution_count": 13,
   "metadata": {
    "id": "P5EPvR8zBW7A"
   },
   "outputs": [],
   "source": [
    "#paso a int o código postal e me quedo con só os datos nas primeiras 5 posicións\n",
    "fastFoodCopy['codigoPostal'] = fastFoodCopy['postalCode'].map(lambda x: int(x[:5]))"
   ]
  },
  {
   "cell_type": "code",
   "execution_count": 14,
   "metadata": {
    "colab": {
     "base_uri": "https://localhost:8080/"
    },
    "executionInfo": {
     "elapsed": 17,
     "status": "ok",
     "timestamp": 1645473375661,
     "user": {
      "displayName": "Alejandro de Nicolás Gómez",
      "photoUrl": "https://lh3.googleusercontent.com/a-/AOh14Gh03ewBLwb-Yoi0H0aNW6rxS0A0MnSiXeSc5PWw=s64",
      "userId": "01925498379162565234"
     },
     "user_tz": -60
    },
    "id": "DjeB1FI0AmHn",
    "outputId": "1cfafafb-b2bd-4aec-ca0b-a1898ba4028f"
   },
   "outputs": [
    {
     "data": {
      "text/plain": [
       "0    70301\n",
       "1    70301\n",
       "2    37863\n",
       "3    37863\n",
       "4    30260\n",
       "5    48204\n",
       "6    48235\n",
       "7    92056\n",
       "8    11901\n",
       "9    79756\n",
       "Name: codigoPostal, dtype: int64"
      ]
     },
     "execution_count": 14,
     "metadata": {},
     "output_type": "execute_result"
    }
   ],
   "source": [
    "fastFoodCopy['codigoPostal'].head(10)"
   ]
  },
  {
   "cell_type": "code",
   "execution_count": 15,
   "metadata": {
    "colab": {
     "base_uri": "https://localhost:8080/"
    },
    "executionInfo": {
     "elapsed": 17,
     "status": "ok",
     "timestamp": 1645473375662,
     "user": {
      "displayName": "Alejandro de Nicolás Gómez",
      "photoUrl": "https://lh3.googleusercontent.com/a-/AOh14Gh03ewBLwb-Yoi0H0aNW6rxS0A0MnSiXeSc5PWw=s64",
      "userId": "01925498379162565234"
     },
     "user_tz": -60
    },
    "id": "jkng6M77A2P_",
    "outputId": "b09739a0-bff7-45b0-d3d5-7fbc474939a0"
   },
   "outputs": [
    {
     "data": {
      "text/plain": [
       "codigoPostal    1.000\n",
       "index          -0.026\n",
       "latitude       -0.128\n",
       "longitude      -0.927\n",
       "Name: codigoPostal, dtype: float64"
      ]
     },
     "execution_count": 15,
     "metadata": {},
     "output_type": "execute_result"
    }
   ],
   "source": [
    "#Como dato curioso, podemos ver que o código postal ten unha correlación moito maior\n",
    "#con lonxitude que con latitude\n",
    "fastFoodCopyCorr = fastFoodCopy.corr()\n",
    "fastFoodCopyCorr['codigoPostal'].sort_values(ascending=False)"
   ]
  },
  {
   "cell_type": "markdown",
   "metadata": {
    "id": "nldFZpLA-Bsw"
   },
   "source": [
    "## Gráficas"
   ]
  },
  {
   "cell_type": "markdown",
   "metadata": {
    "id": "92Os-qLZ-XwI"
   },
   "source": [
    "Gracias aos cambios feitos no apartado anterior, podemos ver moi ben o mapa dos restaurantes co seu código postal"
   ]
  },
  {
   "cell_type": "code",
   "execution_count": 16,
   "metadata": {
    "colab": {
     "base_uri": "https://localhost:8080/",
     "height": 271
    },
    "executionInfo": {
     "elapsed": 962,
     "status": "ok",
     "timestamp": 1645473376609,
     "user": {
      "displayName": "Alejandro de Nicolás Gómez",
      "photoUrl": "https://lh3.googleusercontent.com/a-/AOh14Gh03ewBLwb-Yoi0H0aNW6rxS0A0MnSiXeSc5PWw=s64",
      "userId": "01925498379162565234"
     },
     "user_tz": -60
    },
    "id": "2BgWIBF0-YfA",
    "outputId": "50b43c10-0c24-4eac-bdb2-203a0a28a3ff"
   },
   "outputs": [
    {
     "data": {
      "text/plain": [
       "<AxesSubplot:xlabel='longitude', ylabel='latitude'>"
      ]
     },
     "execution_count": 16,
     "metadata": {},
     "output_type": "execute_result"
    },
    {
     "data": {
      "image/png": "[encoded data removed]",
      "text/plain": [
       "<Figure size 432x288 with 2 Axes>"
      ]
     },
     "metadata": {
      "needs_background": "light"
     },
     "output_type": "display_data"
    }
   ],
   "source": [
    "fastFoodCopy.plot(kind=\"scatter\", x=\"longitude\", y=\"latitude\", alpha=0.2, \n",
    "                  c=fastFoodCopy['codigoPostal'], cmap=plt.get_cmap(\"jet\"))"
   ]
  },
  {
   "cell_type": "markdown",
   "metadata": {
    "id": "cHxYvszPEdNB"
   },
   "source": [
    "Podemos ver a cantidade de restaurantes en cada estado"
   ]
  },
  {
   "cell_type": "code",
   "execution_count": 17,
   "metadata": {
    "colab": {
     "base_uri": "https://localhost:8080/",
     "height": 444
    },
    "executionInfo": {
     "elapsed": 7,
     "status": "ok",
     "timestamp": 1645476118609,
     "user": {
      "displayName": "Alejandro de Nicolás Gómez",
      "photoUrl": "https://lh3.googleusercontent.com/a-/AOh14Gh03ewBLwb-Yoi0H0aNW6rxS0A0MnSiXeSc5PWw=s64",
      "userId": "01925498379162565234"
     },
     "user_tz": -60
    },
    "id": "Qfj-mwAVBOOs",
    "outputId": "a84d10c1-2c04-4822-acf1-d601ae1ec9f6"
   },
   "outputs": [
    {
     "data": {
      "text/html": [
       "<div>\n",
       "<style scoped>\n",
       "    .dataframe tbody tr th:only-of-type {\n",
       "        vertical-align: middle;\n",
       "    }\n",
       "\n",
       "    .dataframe tbody tr th {\n",
       "        vertical-align: top;\n",
       "    }\n",
       "\n",
       "    .dataframe thead th {\n",
       "        text-align: right;\n",
       "    }\n",
       "</style>\n",
       "<table border=\"1\" class=\"dataframe\">\n",
       "  <thead>\n",
       "    <tr style=\"text-align: right;\">\n",
       "      <th></th>\n",
       "      <th>index</th>\n",
       "      <th>id</th>\n",
       "      <th>dateAdded</th>\n",
       "      <th>dateUpdated</th>\n",
       "      <th>address</th>\n",
       "      <th>categories</th>\n",
       "      <th>city</th>\n",
       "      <th>country</th>\n",
       "      <th>keys</th>\n",
       "      <th>latitude</th>\n",
       "      <th>longitude</th>\n",
       "      <th>name</th>\n",
       "      <th>postalCode</th>\n",
       "      <th>province</th>\n",
       "      <th>sourceURLs</th>\n",
       "      <th>websites</th>\n",
       "      <th>codigoPostal</th>\n",
       "    </tr>\n",
       "  </thead>\n",
       "  <tbody>\n",
       "    <tr>\n",
       "      <th>449</th>\n",
       "      <td>449</td>\n",
       "      <td>AV0BTk-fFcQ3k02bDmUF</td>\n",
       "      <td>2017-07-02T03:18:15Z</td>\n",
       "      <td>2018-06-22T18:34:35Z</td>\n",
       "      <td>1108 N Grand Ave</td>\n",
       "      <td>Fast Food Restaurants</td>\n",
       "      <td>Gainesville</td>\n",
       "      <td>US</td>\n",
       "      <td>us/tx/gainesville/1108ngrandave/-390366181</td>\n",
       "      <td>33.636</td>\n",
       "      <td>-97.133</td>\n",
       "      <td>Chicken Express</td>\n",
       "      <td>76240</td>\n",
       "      <td>TX</td>\n",
       "      <td>https://foursquare.com/v/chicken-express/4ce86...</td>\n",
       "      <td>http://www.chickene.com</td>\n",
       "      <td>76240</td>\n",
       "    </tr>\n",
       "    <tr>\n",
       "      <th>9998</th>\n",
       "      <td>9998</td>\n",
       "      <td>AVwdl2cykufWRAb57ZPs</td>\n",
       "      <td>2016-04-05T02:59:45Z</td>\n",
       "      <td>2018-04-07T13:19:05Z</td>\n",
       "      <td>1702 Glendale Dr SW</td>\n",
       "      <td>Fast Food Restaurants</td>\n",
       "      <td>Wilson</td>\n",
       "      <td>US</td>\n",
       "      <td>us/nc/wilson/1702glendaledrsw/-66712705</td>\n",
       "      <td>35.720</td>\n",
       "      <td>-77.946</td>\n",
       "      <td>Pizza Hut</td>\n",
       "      <td>27893</td>\n",
       "      <td>NC</td>\n",
       "      <td>https://www.allmenus.com/nc/wilson/73403-pizza...</td>\n",
       "      <td>http://www.pizzahut.com</td>\n",
       "      <td>27893</td>\n",
       "    </tr>\n",
       "    <tr>\n",
       "      <th>5617</th>\n",
       "      <td>5617</td>\n",
       "      <td>AV1iqOs93-Khe5l_OAX7</td>\n",
       "      <td>2017-07-21T01:00:23Z</td>\n",
       "      <td>2018-05-29T00:34:58Z</td>\n",
       "      <td>Hc 84 Box 1938</td>\n",
       "      <td>Fast Food Restaurants</td>\n",
       "      <td>Barbourville</td>\n",
       "      <td>US</td>\n",
       "      <td>us/ky/barbourville/hc84box1938/-791445730</td>\n",
       "      <td>36.853</td>\n",
       "      <td>-83.864</td>\n",
       "      <td>Wendy's</td>\n",
       "      <td>40906</td>\n",
       "      <td>KY</td>\n",
       "      <td>https://www.tripadvisor.com/Restaurant_Review-...</td>\n",
       "      <td>http://www.wendys.com</td>\n",
       "      <td>40906</td>\n",
       "    </tr>\n",
       "    <tr>\n",
       "      <th>4528</th>\n",
       "      <td>4528</td>\n",
       "      <td>AVzBAviWLD2H7whiWJkr</td>\n",
       "      <td>2017-06-19T15:40:16Z</td>\n",
       "      <td>2018-05-31T17:38:35Z</td>\n",
       "      <td>4300 Roosevelt Blvd</td>\n",
       "      <td>Fast Food</td>\n",
       "      <td>Philadelphia</td>\n",
       "      <td>US</td>\n",
       "      <td>us/pa/philadelphia/4300rooseveltblvd/-798173377</td>\n",
       "      <td>40.030</td>\n",
       "      <td>-75.105</td>\n",
       "      <td>Charlie's Pizzeria</td>\n",
       "      <td>19124</td>\n",
       "      <td>PA</td>\n",
       "      <td>https://www.trip.com/philadelphia/restaurants/...</td>\n",
       "      <td>http://charlies-pizzeria.com</td>\n",
       "      <td>19124</td>\n",
       "    </tr>\n",
       "    <tr>\n",
       "      <th>207</th>\n",
       "      <td>207</td>\n",
       "      <td>AV0Z-6uGLD2H7whiZSdp</td>\n",
       "      <td>2017-07-06T22:18:30Z</td>\n",
       "      <td>2018-06-25T08:56:04Z</td>\n",
       "      <td>2202 N Richmond Rd</td>\n",
       "      <td>Fast Food Restaurants</td>\n",
       "      <td>Wharton</td>\n",
       "      <td>US</td>\n",
       "      <td>us/tx/wharton/2202nrichmondrd/-66712705</td>\n",
       "      <td>29.331</td>\n",
       "      <td>-96.095</td>\n",
       "      <td>Pizza Hut</td>\n",
       "      <td>77488</td>\n",
       "      <td>TX</td>\n",
       "      <td>http://www.yellowbook.com/profile/pizza-hut_15...</td>\n",
       "      <td>http://www.pizzahut.com</td>\n",
       "      <td>77488</td>\n",
       "    </tr>\n",
       "  </tbody>\n",
       "</table>\n",
       "</div>"
      ],
      "text/plain": [
       "      index                    id             dateAdded           dateUpdated  \\\n",
       "449     449  AV0BTk-fFcQ3k02bDmUF  2017-07-02T03:18:15Z  2018-06-22T18:34:35Z   \n",
       "9998   9998  AVwdl2cykufWRAb57ZPs  2016-04-05T02:59:45Z  2018-04-07T13:19:05Z   \n",
       "5617   5617  AV1iqOs93-Khe5l_OAX7  2017-07-21T01:00:23Z  2018-05-29T00:34:58Z   \n",
       "4528   4528  AVzBAviWLD2H7whiWJkr  2017-06-19T15:40:16Z  2018-05-31T17:38:35Z   \n",
       "207     207  AV0Z-6uGLD2H7whiZSdp  2017-07-06T22:18:30Z  2018-06-25T08:56:04Z   \n",
       "\n",
       "                  address             categories          city country  \\\n",
       "449      1108 N Grand Ave  Fast Food Restaurants   Gainesville      US   \n",
       "9998  1702 Glendale Dr SW  Fast Food Restaurants        Wilson      US   \n",
       "5617       Hc 84 Box 1938  Fast Food Restaurants  Barbourville      US   \n",
       "4528  4300 Roosevelt Blvd              Fast Food  Philadelphia      US   \n",
       "207    2202 N Richmond Rd  Fast Food Restaurants       Wharton      US   \n",
       "\n",
       "                                                 keys  latitude  longitude  \\\n",
       "449        us/tx/gainesville/1108ngrandave/-390366181    33.636    -97.133   \n",
       "9998          us/nc/wilson/1702glendaledrsw/-66712705    35.720    -77.946   \n",
       "5617        us/ky/barbourville/hc84box1938/-791445730    36.853    -83.864   \n",
       "4528  us/pa/philadelphia/4300rooseveltblvd/-798173377    40.030    -75.105   \n",
       "207           us/tx/wharton/2202nrichmondrd/-66712705    29.331    -96.095   \n",
       "\n",
       "                    name postalCode province  \\\n",
       "449      Chicken Express      76240       TX   \n",
       "9998           Pizza Hut      27893       NC   \n",
       "5617             Wendy's      40906       KY   \n",
       "4528  Charlie's Pizzeria      19124       PA   \n",
       "207            Pizza Hut      77488       TX   \n",
       "\n",
       "                                             sourceURLs  \\\n",
       "449   https://foursquare.com/v/chicken-express/4ce86...   \n",
       "9998  https://www.allmenus.com/nc/wilson/73403-pizza...   \n",
       "5617  https://www.tripadvisor.com/Restaurant_Review-...   \n",
       "4528  https://www.trip.com/philadelphia/restaurants/...   \n",
       "207   http://www.yellowbook.com/profile/pizza-hut_15...   \n",
       "\n",
       "                          websites  codigoPostal  \n",
       "449        http://www.chickene.com         76240  \n",
       "9998       http://www.pizzahut.com         27893  \n",
       "5617         http://www.wendys.com         40906  \n",
       "4528  http://charlies-pizzeria.com         19124  \n",
       "207        http://www.pizzahut.com         77488  "
      ]
     },
     "execution_count": 17,
     "metadata": {},
     "output_type": "execute_result"
    }
   ],
   "source": [
    "fastFoodCopy.sample(5)"
   ]
  },
  {
   "cell_type": "code",
   "execution_count": 18,
   "metadata": {
    "colab": {
     "base_uri": "https://localhost:8080/",
     "height": 625
    },
    "executionInfo": {
     "elapsed": 1117,
     "status": "ok",
     "timestamp": 1645475604670,
     "user": {
      "displayName": "Alejandro de Nicolás Gómez",
      "photoUrl": "https://lh3.googleusercontent.com/a-/AOh14Gh03ewBLwb-Yoi0H0aNW6rxS0A0MnSiXeSc5PWw=s64",
      "userId": "01925498379162565234"
     },
     "user_tz": -60
    },
    "id": "obWvOkL8EdpK",
    "outputId": "1cce1717-af95-44c5-a42a-c711c8e1d6f1"
   },
   "outputs": [
    {
     "data": {
      "text/plain": [
       "<AxesSubplot:xlabel='count', ylabel='province'>"
      ]
     },
     "execution_count": 18,
     "metadata": {},
     "output_type": "execute_result"
    },
    {
     "data": {
      "image/png": "[encoded data removed]",
      "text/plain": [
       "<Figure size 864x720 with 1 Axes>"
      ]
     },
     "metadata": {
      "needs_background": "light"
     },
     "output_type": "display_data"
    }
   ],
   "source": [
    "plt.figure(figsize=(12,10))\n",
    "sns.countplot(data=fastFoodCopy,y='province')"
   ]
  },
  {
   "cell_type": "markdown",
   "metadata": {
    "id": "V56XnsrdDXMI"
   },
   "source": [
    "E de forma ordenada"
   ]
  },
  {
   "cell_type": "code",
   "execution_count": 19,
   "metadata": {
    "colab": {
     "base_uri": "https://localhost:8080/",
     "height": 625
    },
    "executionInfo": {
     "elapsed": 761,
     "status": "ok",
     "timestamp": 1645476585022,
     "user": {
      "displayName": "Alejandro de Nicolás Gómez",
      "photoUrl": "https://lh3.googleusercontent.com/a-/AOh14Gh03ewBLwb-Yoi0H0aNW6rxS0A0MnSiXeSc5PWw=s64",
      "userId": "01925498379162565234"
     },
     "user_tz": -60
    },
    "id": "4Iy839dNCcrD",
    "outputId": "0ab15acf-7f92-45ae-fe1f-aacb7d29bc56"
   },
   "outputs": [
    {
     "data": {
      "text/plain": [
       "<AxesSubplot:xlabel='count', ylabel='province'>"
      ]
     },
     "execution_count": 19,
     "metadata": {},
     "output_type": "execute_result"
    },
    {
     "data": {
      "image/png": "[encoded data removed]",
      "text/plain": [
       "<Figure size 864x720 with 1 Axes>"
      ]
     },
     "metadata": {
      "needs_background": "light"
     },
     "output_type": "display_data"
    }
   ],
   "source": [
    "plt.figure(figsize=(12,10))\n",
    "sns.countplot(y = 'province', data=fastFoodCopy, order=fastFoodCopy['province'].value_counts().index)"
   ]
  },
  {
   "cell_type": "markdown",
   "metadata": {
    "id": "PpkVSElwDfaW"
   },
   "source": [
    "**Parece que California é o gañador indiscutible en número de restaurantes de comida rápida**"
   ]
  },
  {
   "cell_type": "markdown",
   "metadata": {
    "id": "eCYq2s0gnqF0"
   },
   "source": [
    "## Outros datos interesantes"
   ]
  },
  {
   "cell_type": "markdown",
   "metadata": {
    "id": "xVlTs9YFVx6w"
   },
   "source": [
    "Restaurantes máis comúns"
   ]
  },
  {
   "cell_type": "code",
   "execution_count": 20,
   "metadata": {
    "colab": {
     "base_uri": "https://localhost:8080/"
    },
    "executionInfo": {
     "elapsed": 12,
     "status": "ok",
     "timestamp": 1645473377060,
     "user": {
      "displayName": "Alejandro de Nicolás Gómez",
      "photoUrl": "https://lh3.googleusercontent.com/a-/AOh14Gh03ewBLwb-Yoi0H0aNW6rxS0A0MnSiXeSc5PWw=s64",
      "userId": "01925498379162565234"
     },
     "user_tz": -60
    },
    "id": "4LSPnODDVyTY",
    "outputId": "0c1c8cee-8ad0-4532-87ac-6fb026d16d5a"
   },
   "outputs": [
    {
     "data": {
      "text/plain": [
       "McDonald's                        1898\n",
       "Taco Bell                         1032\n",
       "Burger King                        833\n",
       "Subway                             776\n",
       "Arby's                             663\n",
       "                                  ... \n",
       "D & M Subs                           1\n",
       "Tony Wang's Chinese Restaurant       1\n",
       "Arthur Treacher's Fish & Chips       1\n",
       "Bistro To Go                         1\n",
       "Stoko's                              1\n",
       "Name: name, Length: 571, dtype: int64"
      ]
     },
     "execution_count": 20,
     "metadata": {},
     "output_type": "execute_result"
    }
   ],
   "source": [
    "fastFoodCopy['name'].value_counts()"
   ]
  },
  {
   "cell_type": "markdown",
   "metadata": {
    "id": "gmEXp3QqHkNl"
   },
   "source": [
    "**McDonald's, Taco Bell e Burger King son os restaurantes máis comúns**"
   ]
  },
  {
   "cell_type": "markdown",
   "metadata": {
    "id": "w_v8M5tZ-IrV"
   },
   "source": [
    "Punto máis preto de todos os restaurantes en cada rexión"
   ]
  },
  {
   "cell_type": "code",
   "execution_count": 21,
   "metadata": {
    "colab": {
     "base_uri": "https://localhost:8080/"
    },
    "executionInfo": {
     "elapsed": 11,
     "status": "ok",
     "timestamp": 1645473377061,
     "user": {
      "displayName": "Alejandro de Nicolás Gómez",
      "photoUrl": "https://lh3.googleusercontent.com/a-/AOh14Gh03ewBLwb-Yoi0H0aNW6rxS0A0MnSiXeSc5PWw=s64",
      "userId": "01925498379162565234"
     },
     "user_tz": -60
    },
    "id": "QL4LgHxP-H1d",
    "outputId": "9bff2aad-9607-4d5a-d001-ae73661830e9"
   },
   "outputs": [
    {
     "data": {
      "text/plain": [
       "province\n",
       "TN   37630.728\n",
       "CT    6433.962\n",
       "NC   27951.295\n",
       "KS   66876.054\n",
       "FL   33156.535\n",
       "Name: codigoPostal, dtype: float64"
      ]
     },
     "execution_count": 21,
     "metadata": {},
     "output_type": "execute_result"
    }
   ],
   "source": [
    "grouped_fastFood = fastFoodCopy.groupby('province')\n",
    "puntosQuentes = grouped_fastFood['codigoPostal'].mean()\n",
    "puntosQuentes.sample(5)"
   ]
  },
  {
   "cell_type": "code",
   "execution_count": 22,
   "metadata": {
    "colab": {
     "base_uri": "https://localhost:8080/"
    },
    "executionInfo": {
     "elapsed": 10,
     "status": "ok",
     "timestamp": 1645473377061,
     "user": {
      "displayName": "Alejandro de Nicolás Gómez",
      "photoUrl": "https://lh3.googleusercontent.com/a-/AOh14Gh03ewBLwb-Yoi0H0aNW6rxS0A0MnSiXeSc5PWw=s64",
      "userId": "01925498379162565234"
     },
     "user_tz": -60
    },
    "id": "SQco4HB3lGg0",
    "outputId": "9b28be0a-3abe-452c-a9df-e824b819fdba"
   },
   "outputs": [
    {
     "data": {
      "text/plain": [
       "pandas.core.series.Series"
      ]
     },
     "execution_count": 22,
     "metadata": {},
     "output_type": "execute_result"
    }
   ],
   "source": [
    "type(puntosQuentes)"
   ]
  },
  {
   "cell_type": "code",
   "execution_count": 23,
   "metadata": {
    "colab": {
     "base_uri": "https://localhost:8080/",
     "height": 238
    },
    "executionInfo": {
     "elapsed": 297,
     "status": "ok",
     "timestamp": 1645473377348,
     "user": {
      "displayName": "Alejandro de Nicolás Gómez",
      "photoUrl": "https://lh3.googleusercontent.com/a-/AOh14Gh03ewBLwb-Yoi0H0aNW6rxS0A0MnSiXeSc5PWw=s64",
      "userId": "01925498379162565234"
     },
     "user_tz": -60
    },
    "id": "GFmZTuYFlFVU",
    "outputId": "151242bc-4598-43be-8b49-55f8007afa8e"
   },
   "outputs": [
    {
     "data": {
      "text/html": [
       "<div>\n",
       "<style scoped>\n",
       "    .dataframe tbody tr th:only-of-type {\n",
       "        vertical-align: middle;\n",
       "    }\n",
       "\n",
       "    .dataframe tbody tr th {\n",
       "        vertical-align: top;\n",
       "    }\n",
       "\n",
       "    .dataframe thead th {\n",
       "        text-align: right;\n",
       "    }\n",
       "</style>\n",
       "<table border=\"1\" class=\"dataframe\">\n",
       "  <thead>\n",
       "    <tr style=\"text-align: right;\">\n",
       "      <th></th>\n",
       "      <th>codigoPostal</th>\n",
       "    </tr>\n",
       "    <tr>\n",
       "      <th>province</th>\n",
       "      <th></th>\n",
       "    </tr>\n",
       "  </thead>\n",
       "  <tbody>\n",
       "    <tr>\n",
       "      <th>IL</th>\n",
       "      <td>60895.020</td>\n",
       "    </tr>\n",
       "    <tr>\n",
       "      <th>ME</th>\n",
       "      <td>4510.920</td>\n",
       "    </tr>\n",
       "    <tr>\n",
       "      <th>TN</th>\n",
       "      <td>37630.728</td>\n",
       "    </tr>\n",
       "    <tr>\n",
       "      <th>CO</th>\n",
       "      <td>80382.365</td>\n",
       "    </tr>\n",
       "    <tr>\n",
       "      <th>IN</th>\n",
       "      <td>46741.350</td>\n",
       "    </tr>\n",
       "  </tbody>\n",
       "</table>\n",
       "</div>"
      ],
      "text/plain": [
       "          codigoPostal\n",
       "province              \n",
       "IL           60895.020\n",
       "ME            4510.920\n",
       "TN           37630.728\n",
       "CO           80382.365\n",
       "IN           46741.350"
      ]
     },
     "execution_count": 23,
     "metadata": {},
     "output_type": "execute_result"
    }
   ],
   "source": [
    "puntosQuentesDF = pd.DataFrame(puntosQuentes)\n",
    "puntosQuentesDF.sample(5)"
   ]
  },
  {
   "cell_type": "markdown",
   "metadata": {
    "id": "yfKEczkBWTZP"
   },
   "source": [
    "Provincias con maior e menor número de restaurantes"
   ]
  },
  {
   "cell_type": "code",
   "execution_count": 24,
   "metadata": {
    "colab": {
     "base_uri": "https://localhost:8080/"
    },
    "executionInfo": {
     "elapsed": 11,
     "status": "ok",
     "timestamp": 1645473377348,
     "user": {
      "displayName": "Alejandro de Nicolás Gómez",
      "photoUrl": "https://lh3.googleusercontent.com/a-/AOh14Gh03ewBLwb-Yoi0H0aNW6rxS0A0MnSiXeSc5PWw=s64",
      "userId": "01925498379162565234"
     },
     "user_tz": -60
    },
    "id": "efed_ndxnx_c",
    "outputId": "86005ecc-f7bc-4af4-8db3-96a7b01d76fd"
   },
   "outputs": [
    {
     "data": {
      "text/plain": [
       "province\n",
       "CA    1201\n",
       "TX     811\n",
       "FL     621\n",
       "OH     522\n",
       "GA     420\n",
       "Name: keys, dtype: int64"
      ]
     },
     "execution_count": 24,
     "metadata": {},
     "output_type": "execute_result"
    }
   ],
   "source": [
    "grouped_fastFood['keys'].count().sort_values(ascending=False).head(5)"
   ]
  },
  {
   "cell_type": "code",
   "execution_count": 25,
   "metadata": {
    "colab": {
     "base_uri": "https://localhost:8080/"
    },
    "executionInfo": {
     "elapsed": 10,
     "status": "ok",
     "timestamp": 1645473377349,
     "user": {
      "displayName": "Alejandro de Nicolás Gómez",
      "photoUrl": "https://lh3.googleusercontent.com/a-/AOh14Gh03ewBLwb-Yoi0H0aNW6rxS0A0MnSiXeSc5PWw=s64",
      "userId": "01925498379162565234"
     },
     "user_tz": -60
    },
    "id": "1rjyUXFVvEcI",
    "outputId": "4eff1fb4-5bf0-4e1d-801f-b881d8ad8ba5"
   },
   "outputs": [
    {
     "data": {
      "text/plain": [
       "province\n",
       "AL     6\n",
       "VT    15\n",
       "RI    15\n",
       "AK    16\n",
       "ME    25\n",
       "Name: keys, dtype: int64"
      ]
     },
     "execution_count": 25,
     "metadata": {},
     "output_type": "execute_result"
    }
   ],
   "source": [
    "grouped_fastFood['keys'].count().sort_values(ascending=True).head(5)"
   ]
  },
  {
   "cell_type": "markdown",
   "metadata": {
    "id": "TY9DQxwXeNjW"
   },
   "source": [
    "## **Algunhas observacións**"
   ]
  },
  {
   "cell_type": "markdown",
   "metadata": {
    "id": "3pKI5F-sebWm"
   },
   "source": [
    "* Podemos ver que aínda que o número de restaurantes no dataset non é moi grande (10000) temos unha cantidade enorme de categorías de restaurante (324) e cidades do país no que están distribuídos (2764)\n",
    "* Observamos tamén que todos os restaurantes son do mesmo país, polo que esa columna poderíamos borrala sen problema para traballar cos datos en pasos posteriores\n",
    "* A cantidade pequena de datos numéricos fai máis complicadas as comparacións que poderíamos facer nas columnas"
   ]
  },
  {
   "cell_type": "code",
   "execution_count": 26,
   "metadata": {
    "colab": {
     "base_uri": "https://localhost:8080/"
    },
    "executionInfo": {
     "elapsed": 10,
     "status": "ok",
     "timestamp": 1645473377349,
     "user": {
      "displayName": "Alejandro de Nicolás Gómez",
      "photoUrl": "https://lh3.googleusercontent.com/a-/AOh14Gh03ewBLwb-Yoi0H0aNW6rxS0A0MnSiXeSc5PWw=s64",
      "userId": "01925498379162565234"
     },
     "user_tz": -60
    },
    "id": "REN9kOLwfOJW",
    "outputId": "88520ce1-7cc5-415e-9d20-8a18254e0b6b"
   },
   "outputs": [
    {
     "name": "stdout",
     "output_type": "stream",
     "text": [
      "Total valores: 10000 \n",
      "\n",
      "categories 324\n",
      "city 2764\n",
      "country 1\n",
      "name 571\n",
      "province 50\n"
     ]
    }
   ],
   "source": [
    "print(\"Total valores:\",fastFoodCopy[\"id\"].count(),\"\\n\")\n",
    "\n",
    "#valores diferentes en cada columna:\n",
    "print(\"categories\",fastFoodCopy[\"categories\"].nunique())\n",
    "print(\"city\",fastFoodCopy[\"city\"].nunique())\n",
    "print(\"country\",fastFoodCopy[\"country\"].nunique())\n",
    "print(\"name\",fastFoodCopy[\"name\"].nunique())\n",
    "print(\"province\",fastFoodCopy[\"province\"].nunique())"
   ]
  },
  {
   "cell_type": "markdown",
   "metadata": {
    "id": "zvyLLLzX993Q"
   },
   "source": [
    "## Outliers, nulos, repetidos"
   ]
  },
  {
   "cell_type": "code",
   "execution_count": 27,
   "metadata": {
    "id": "vO85QHfqpcmR"
   },
   "outputs": [],
   "source": [
    "#Facemos outra copia do dataframe previamente modificado, \n",
    "#por se borramos nestos pasos algún dato que máis adiante nos interese manter\n",
    "\n",
    "fastFoodLimpo = fastFoodCopy.copy(deep=True)"
   ]
  },
  {
   "cell_type": "markdown",
   "metadata": {
    "id": "eGkWwjUK-rfU"
   },
   "source": [
    "### Nulos"
   ]
  },
  {
   "cell_type": "code",
   "execution_count": 28,
   "metadata": {
    "colab": {
     "base_uri": "https://localhost:8080/"
    },
    "executionInfo": {
     "elapsed": 9,
     "status": "ok",
     "timestamp": 1645473377350,
     "user": {
      "displayName": "Alejandro de Nicolás Gómez",
      "photoUrl": "https://lh3.googleusercontent.com/a-/AOh14Gh03ewBLwb-Yoi0H0aNW6rxS0A0MnSiXeSc5PWw=s64",
      "userId": "01925498379162565234"
     },
     "user_tz": -60
    },
    "id": "f7DLK2Huqv5Z",
    "outputId": "d5ce7ca3-0440-4797-ad20-4d99c7901630"
   },
   "outputs": [
    {
     "name": "stdout",
     "output_type": "stream",
     "text": [
      "<class 'pandas.core.frame.DataFrame'>\n",
      "RangeIndex: 10000 entries, 0 to 9999\n",
      "Data columns (total 17 columns):\n",
      " #   Column        Non-Null Count  Dtype  \n",
      "---  ------        --------------  -----  \n",
      " 0   index         10000 non-null  int64  \n",
      " 1   id            10000 non-null  object \n",
      " 2   dateAdded     10000 non-null  object \n",
      " 3   dateUpdated   10000 non-null  object \n",
      " 4   address       10000 non-null  object \n",
      " 5   categories    10000 non-null  object \n",
      " 6   city          10000 non-null  object \n",
      " 7   country       10000 non-null  object \n",
      " 8   keys          10000 non-null  object \n",
      " 9   latitude      10000 non-null  float64\n",
      " 10  longitude     10000 non-null  float64\n",
      " 11  name          10000 non-null  object \n",
      " 12  postalCode    10000 non-null  object \n",
      " 13  province      10000 non-null  object \n",
      " 14  sourceURLs    10000 non-null  object \n",
      " 15  websites      10000 non-null  object \n",
      " 16  codigoPostal  10000 non-null  int64  \n",
      "dtypes: float64(2), int64(2), object(13)\n",
      "memory usage: 1.3+ MB\n"
     ]
    }
   ],
   "source": [
    "fastFoodLimpo.info()"
   ]
  },
  {
   "cell_type": "code",
   "execution_count": 29,
   "metadata": {
    "id": "t7luCIWt-scc"
   },
   "outputs": [],
   "source": [
    "#neste caso non temos datos nulos, pero poderíamos"
   ]
  },
  {
   "cell_type": "code",
   "execution_count": 30,
   "metadata": {
    "id": "0LtyXbrIpo4z"
   },
   "outputs": [],
   "source": [
    "#borrar as filas que teñan datos nulos\n",
    "fastFoodLimpo = fastFoodLimpo.dropna()"
   ]
  },
  {
   "cell_type": "code",
   "execution_count": 31,
   "metadata": {
    "id": "ghPC01Vgpouw"
   },
   "outputs": [],
   "source": [
    "#borrar as columnas que teñan datos nulos\n",
    "fastFoodLimpo = fastFoodLimpo.dropna(axis=1)"
   ]
  },
  {
   "cell_type": "code",
   "execution_count": 32,
   "metadata": {
    "id": "tJP9vSRkpojv"
   },
   "outputs": [],
   "source": [
    "#engadir un treshold a esos borrados, para só facelos se pasan de \"thresh\" datos nulos\n",
    "fastFoodLimpo = fastFoodLimpo.dropna(axis=1, thresh=10)"
   ]
  },
  {
   "cell_type": "code",
   "execution_count": 33,
   "metadata": {
    "id": "_4kEnoB2q87V"
   },
   "outputs": [],
   "source": [
    "#engadir \"Descoñecido\" nos valores nulos (ou 0 nos numéricos)\n",
    "fastFoodLimpo = fastFoodLimpo.fillna(\"Descoñecido\")"
   ]
  },
  {
   "cell_type": "code",
   "execution_count": 34,
   "metadata": {
    "id": "S_DLLD-friZV"
   },
   "outputs": [],
   "source": [
    "# reemprazo con valores da fila anterior\n",
    "fastFoodLimpo = fastFoodLimpo.fillna(method='ffill')"
   ]
  },
  {
   "cell_type": "code",
   "execution_count": 35,
   "metadata": {
    "id": "R02hvbUeriu1"
   },
   "outputs": [],
   "source": [
    "# reemprazo don valores da fila posterios\n",
    "fastFoodLimpo = fastFoodLimpo.fillna(method='bfill')"
   ]
  },
  {
   "cell_type": "markdown",
   "metadata": {
    "id": "A7RBSNCqqOn_"
   },
   "source": [
    "### Filas Duplicadas"
   ]
  },
  {
   "cell_type": "code",
   "execution_count": 36,
   "metadata": {
    "colab": {
     "base_uri": "https://localhost:8080/",
     "height": 94
    },
    "executionInfo": {
     "elapsed": 291,
     "status": "ok",
     "timestamp": 1645473377635,
     "user": {
      "displayName": "Alejandro de Nicolás Gómez",
      "photoUrl": "https://lh3.googleusercontent.com/a-/AOh14Gh03ewBLwb-Yoi0H0aNW6rxS0A0MnSiXeSc5PWw=s64",
      "userId": "01925498379162565234"
     },
     "user_tz": -60
    },
    "id": "uRhDFzZWqM5P",
    "outputId": "2c36f6a4-5c81-4504-fc99-9d0b52413772"
   },
   "outputs": [
    {
     "data": {
      "text/html": [
       "<div>\n",
       "<style scoped>\n",
       "    .dataframe tbody tr th:only-of-type {\n",
       "        vertical-align: middle;\n",
       "    }\n",
       "\n",
       "    .dataframe tbody tr th {\n",
       "        vertical-align: top;\n",
       "    }\n",
       "\n",
       "    .dataframe thead th {\n",
       "        text-align: right;\n",
       "    }\n",
       "</style>\n",
       "<table border=\"1\" class=\"dataframe\">\n",
       "  <thead>\n",
       "    <tr style=\"text-align: right;\">\n",
       "      <th></th>\n",
       "      <th>index</th>\n",
       "      <th>id</th>\n",
       "      <th>dateAdded</th>\n",
       "      <th>dateUpdated</th>\n",
       "      <th>address</th>\n",
       "      <th>categories</th>\n",
       "      <th>city</th>\n",
       "      <th>country</th>\n",
       "      <th>keys</th>\n",
       "      <th>latitude</th>\n",
       "      <th>longitude</th>\n",
       "      <th>name</th>\n",
       "      <th>postalCode</th>\n",
       "      <th>province</th>\n",
       "      <th>sourceURLs</th>\n",
       "      <th>websites</th>\n",
       "      <th>codigoPostal</th>\n",
       "    </tr>\n",
       "  </thead>\n",
       "  <tbody>\n",
       "  </tbody>\n",
       "</table>\n",
       "</div>"
      ],
      "text/plain": [
       "Empty DataFrame\n",
       "Columns: [index, id, dateAdded, dateUpdated, address, categories, city, country, keys, latitude, longitude, name, postalCode, province, sourceURLs, websites, codigoPostal]\n",
       "Index: []"
      ]
     },
     "execution_count": 36,
     "metadata": {},
     "output_type": "execute_result"
    }
   ],
   "source": [
    "#tampoco temos filas duplicadas\n",
    "fastFoodLimpo[fastFoodLimpo.duplicated()]"
   ]
  },
  {
   "cell_type": "code",
   "execution_count": 37,
   "metadata": {
    "id": "FRj-f15PqaaX"
   },
   "outputs": [],
   "source": [
    "#as eliminaríamos de esta forma\n",
    "fastFoodLimpo = fastFoodLimpo.drop_duplicates()"
   ]
  },
  {
   "cell_type": "markdown",
   "metadata": {
    "id": "jMT1wVJW-HGA"
   },
   "source": [
    "### Outliers"
   ]
  },
  {
   "cell_type": "code",
   "execution_count": 38,
   "metadata": {
    "colab": {
     "base_uri": "https://localhost:8080/",
     "height": 301
    },
    "executionInfo": {
     "elapsed": 14,
     "status": "ok",
     "timestamp": 1645473377637,
     "user": {
      "displayName": "Alejandro de Nicolás Gómez",
      "photoUrl": "https://lh3.googleusercontent.com/a-/AOh14Gh03ewBLwb-Yoi0H0aNW6rxS0A0MnSiXeSc5PWw=s64",
      "userId": "01925498379162565234"
     },
     "user_tz": -60
    },
    "id": "zWRVuQNQsCVe",
    "outputId": "1f1ee04f-cd04-4125-b7c6-08ba0aa1f9c4"
   },
   "outputs": [
    {
     "data": {
      "text/html": [
       "<div>\n",
       "<style scoped>\n",
       "    .dataframe tbody tr th:only-of-type {\n",
       "        vertical-align: middle;\n",
       "    }\n",
       "\n",
       "    .dataframe tbody tr th {\n",
       "        vertical-align: top;\n",
       "    }\n",
       "\n",
       "    .dataframe thead th {\n",
       "        text-align: right;\n",
       "    }\n",
       "</style>\n",
       "<table border=\"1\" class=\"dataframe\">\n",
       "  <thead>\n",
       "    <tr style=\"text-align: right;\">\n",
       "      <th></th>\n",
       "      <th>index</th>\n",
       "      <th>latitude</th>\n",
       "      <th>longitude</th>\n",
       "      <th>codigoPostal</th>\n",
       "    </tr>\n",
       "  </thead>\n",
       "  <tbody>\n",
       "    <tr>\n",
       "      <th>count</th>\n",
       "      <td>10000.000</td>\n",
       "      <td>10000.000</td>\n",
       "      <td>10000.000</td>\n",
       "      <td>10000.000</td>\n",
       "    </tr>\n",
       "    <tr>\n",
       "      <th>mean</th>\n",
       "      <td>4999.500</td>\n",
       "      <td>37.337</td>\n",
       "      <td>-93.107</td>\n",
       "      <td>54251.922</td>\n",
       "    </tr>\n",
       "    <tr>\n",
       "      <th>std</th>\n",
       "      <td>2886.896</td>\n",
       "      <td>5.100</td>\n",
       "      <td>15.788</td>\n",
       "      <td>28066.036</td>\n",
       "    </tr>\n",
       "    <tr>\n",
       "      <th>min</th>\n",
       "      <td>0.000</td>\n",
       "      <td>19.504</td>\n",
       "      <td>-159.378</td>\n",
       "      <td>1001.000</td>\n",
       "    </tr>\n",
       "    <tr>\n",
       "      <th>25%</th>\n",
       "      <td>2499.750</td>\n",
       "      <td>33.774</td>\n",
       "      <td>-102.892</td>\n",
       "      <td>30642.750</td>\n",
       "    </tr>\n",
       "    <tr>\n",
       "      <th>50%</th>\n",
       "      <td>4999.500</td>\n",
       "      <td>37.706</td>\n",
       "      <td>-87.951</td>\n",
       "      <td>50414.500</td>\n",
       "    </tr>\n",
       "    <tr>\n",
       "      <th>75%</th>\n",
       "      <td>7499.250</td>\n",
       "      <td>41.141</td>\n",
       "      <td>-81.455</td>\n",
       "      <td>78840.000</td>\n",
       "    </tr>\n",
       "    <tr>\n",
       "      <th>max</th>\n",
       "      <td>9999.000</td>\n",
       "      <td>64.840</td>\n",
       "      <td>-67.463</td>\n",
       "      <td>99709.000</td>\n",
       "    </tr>\n",
       "  </tbody>\n",
       "</table>\n",
       "</div>"
      ],
      "text/plain": [
       "          index  latitude  longitude  codigoPostal\n",
       "count 10000.000 10000.000  10000.000     10000.000\n",
       "mean   4999.500    37.337    -93.107     54251.922\n",
       "std    2886.896     5.100     15.788     28066.036\n",
       "min       0.000    19.504   -159.378      1001.000\n",
       "25%    2499.750    33.774   -102.892     30642.750\n",
       "50%    4999.500    37.706    -87.951     50414.500\n",
       "75%    7499.250    41.141    -81.455     78840.000\n",
       "max    9999.000    64.840    -67.463     99709.000"
      ]
     },
     "execution_count": 38,
     "metadata": {},
     "output_type": "execute_result"
    }
   ],
   "source": [
    "#Neste caso, pode ser posible que non queramos gardar os datos das zonas que estén moi lonxe\n",
    "#Podemos tratalos como outliers e eliminalos\n",
    "\n",
    "fastFoodLimpo.describe()"
   ]
  },
  {
   "cell_type": "code",
   "execution_count": 39,
   "metadata": {
    "colab": {
     "base_uri": "https://localhost:8080/",
     "height": 298
    },
    "executionInfo": {
     "elapsed": 13,
     "status": "ok",
     "timestamp": 1645473377637,
     "user": {
      "displayName": "Alejandro de Nicolás Gómez",
      "photoUrl": "https://lh3.googleusercontent.com/a-/AOh14Gh03ewBLwb-Yoi0H0aNW6rxS0A0MnSiXeSc5PWw=s64",
      "userId": "01925498379162565234"
     },
     "user_tz": -60
    },
    "id": "9mn6Aho4-ADQ",
    "outputId": "4f9ee704-277b-48c0-d21d-88f67290b324"
   },
   "outputs": [
    {
     "data": {
      "text/plain": [
       "<AxesSubplot:xlabel='latitude'>"
      ]
     },
     "execution_count": 39,
     "metadata": {},
     "output_type": "execute_result"
    },
    {
     "data": {
      "image/png": "[encoded data removed]",
      "text/plain": [
       "<Figure size 432x288 with 1 Axes>"
      ]
     },
     "metadata": {
      "needs_background": "light"
     },
     "output_type": "display_data"
    }
   ],
   "source": [
    "sns.boxplot(data=fastFoodLimpo,x='latitude')"
   ]
  },
  {
   "cell_type": "code",
   "execution_count": 40,
   "metadata": {
    "id": "cBEdf-rysmlz"
   },
   "outputs": [],
   "source": [
    "#preparamos os datos\n",
    "Q1 = fastFoodLimpo.latitude.quantile(0.25)\n",
    "Q3 = fastFoodLimpo.latitude.quantile(0.75)\n",
    "IQR = Q3 - Q1"
   ]
  },
  {
   "cell_type": "code",
   "execution_count": 41,
   "metadata": {
    "id": "AG_FJdTgsuCs"
   },
   "outputs": [],
   "source": [
    "# Cálculo dos \"bigotes\"\n",
    "BI = (Q1 - 1.5 * IQR)\n",
    "BS = (Q3 + 1.5 * IQR)"
   ]
  },
  {
   "cell_type": "code",
   "execution_count": 42,
   "metadata": {
    "id": "3Mls64xGs2gs"
   },
   "outputs": [],
   "source": [
    "#Os outliers serán os valores que están fóra do intervalo que definen os bigotes\n",
    "outliers = fastFoodLimpo[(fastFoodLimpo.latitude < BI) | (fastFoodLimpo.latitude > BS)].sort_values('latitude')"
   ]
  },
  {
   "cell_type": "code",
   "execution_count": 43,
   "metadata": {
    "id": "ClRigv-ktE8k"
   },
   "outputs": [],
   "source": [
    "fastFoodLimpo = fastFoodLimpo[(fastFoodLimpo.latitude >= BI) & (fastFoodLimpo.latitude <= BS)].sort_values('latitude')"
   ]
  },
  {
   "cell_type": "code",
   "execution_count": 44,
   "metadata": {
    "colab": {
     "base_uri": "https://localhost:8080/",
     "height": 298
    },
    "executionInfo": {
     "elapsed": 8,
     "status": "ok",
     "timestamp": 1645473377931,
     "user": {
      "displayName": "Alejandro de Nicolás Gómez",
      "photoUrl": "https://lh3.googleusercontent.com/a-/AOh14Gh03ewBLwb-Yoi0H0aNW6rxS0A0MnSiXeSc5PWw=s64",
      "userId": "01925498379162565234"
     },
     "user_tz": -60
    },
    "id": "hyob2HSHtS5S",
    "outputId": "0555b938-4528-4da9-cb49-aeb3c51d0d51"
   },
   "outputs": [
    {
     "data": {
      "text/plain": [
       "<AxesSubplot:xlabel='latitude'>"
      ]
     },
     "execution_count": 44,
     "metadata": {},
     "output_type": "execute_result"
    },
    {
     "data": {
      "image/png": "[encoded data removed]",
      "text/plain": [
       "<Figure size 432x288 with 1 Axes>"
      ]
     },
     "metadata": {
      "needs_background": "light"
     },
     "output_type": "display_data"
    }
   ],
   "source": [
    "sns.boxplot(data=fastFoodLimpo,x='latitude')"
   ]
  },
  {
   "cell_type": "code",
   "execution_count": 45,
   "metadata": {
    "id": "7Y5behjotXYD"
   },
   "outputs": [],
   "source": [
    "#poderíamos repetir o mesmo para lonxitude, pero neste caso ao eliminar\n",
    "#os outliers en latitude xa eliminamos os de lonxitude"
   ]
  },
  {
   "cell_type": "code",
   "execution_count": 46,
   "metadata": {
    "colab": {
     "base_uri": "https://localhost:8080/",
     "height": 298
    },
    "executionInfo": {
     "elapsed": 395,
     "status": "ok",
     "timestamp": 1645473378320,
     "user": {
      "displayName": "Alejandro de Nicolás Gómez",
      "photoUrl": "https://lh3.googleusercontent.com/a-/AOh14Gh03ewBLwb-Yoi0H0aNW6rxS0A0MnSiXeSc5PWw=s64",
      "userId": "01925498379162565234"
     },
     "user_tz": -60
    },
    "id": "Pe9MMoyPsC_-",
    "outputId": "7d424f24-e95e-4239-d219-aab6994177ce"
   },
   "outputs": [
    {
     "data": {
      "text/plain": [
       "<AxesSubplot:xlabel='longitude'>"
      ]
     },
     "execution_count": 46,
     "metadata": {},
     "output_type": "execute_result"
    },
    {
     "data": {
      "image/png": "[encoded data removed]",
      "text/plain": [
       "<Figure size 432x288 with 1 Axes>"
      ]
     },
     "metadata": {
      "needs_background": "light"
     },
     "output_type": "display_data"
    }
   ],
   "source": [
    "sns.boxplot(data=fastFoodLimpo,x='longitude')"
   ]
  },
  {
   "cell_type": "markdown",
   "metadata": {
    "id": "UJFx2Y0W-c7O"
   },
   "source": [
    "### Resultado do tratamento dos datos"
   ]
  },
  {
   "cell_type": "code",
   "execution_count": 47,
   "metadata": {
    "colab": {
     "base_uri": "https://localhost:8080/",
     "height": 271
    },
    "executionInfo": {
     "elapsed": 1281,
     "status": "ok",
     "timestamp": 1645473379595,
     "user": {
      "displayName": "Alejandro de Nicolás Gómez",
      "photoUrl": "https://lh3.googleusercontent.com/a-/AOh14Gh03ewBLwb-Yoi0H0aNW6rxS0A0MnSiXeSc5PWw=s64",
      "userId": "01925498379162565234"
     },
     "user_tz": -60
    },
    "id": "rhF4CzBasRQr",
    "outputId": "68fd9e47-1ac7-4651-dbbf-5a7f994cffe7"
   },
   "outputs": [
    {
     "data": {
      "text/plain": [
       "<AxesSubplot:xlabel='longitude', ylabel='latitude'>"
      ]
     },
     "execution_count": 47,
     "metadata": {},
     "output_type": "execute_result"
    },
    {
     "data": {
      "image/png": "[encoded data removed]",
      "text/plain": [
       "<Figure size 432x288 with 2 Axes>"
      ]
     },
     "metadata": {
      "needs_background": "light"
     },
     "output_type": "display_data"
    }
   ],
   "source": [
    "#Xa podemos ver o dataframe cun área de terreno moito máis limitada\n",
    "\n",
    "fastFoodLimpo.plot(kind=\"scatter\", x=\"longitude\", y=\"latitude\", alpha=0.2, \n",
    "                  c=fastFoodLimpo['codigoPostal'], cmap=plt.get_cmap(\"jet\"))"
   ]
  },
  {
   "cell_type": "code",
   "execution_count": 48,
   "metadata": {
    "colab": {
     "base_uri": "https://localhost:8080/",
     "height": 271
    },
    "executionInfo": {
     "elapsed": 7,
     "status": "ok",
     "timestamp": 1645473379596,
     "user": {
      "displayName": "Alejandro de Nicolás Gómez",
      "photoUrl": "https://lh3.googleusercontent.com/a-/AOh14Gh03ewBLwb-Yoi0H0aNW6rxS0A0MnSiXeSc5PWw=s64",
      "userId": "01925498379162565234"
     },
     "user_tz": -60
    },
    "id": "cQ9lHc20UoDa",
    "outputId": "73255597-6059-4016-9996-cc3a85031d2a"
   },
   "outputs": [
    {
     "data": {
      "text/plain": [
       "<AxesSubplot:xlabel='longitude', ylabel='latitude'>"
      ]
     },
     "execution_count": 48,
     "metadata": {},
     "output_type": "execute_result"
    },
    {
     "data": {
      "image/png": "[encoded data removed]",
      "text/plain": [
       "<Figure size 432x288 with 2 Axes>"
      ]
     },
     "metadata": {
      "needs_background": "light"
     },
     "output_type": "display_data"
    }
   ],
   "source": [
    "#Poderíamos ver tamén os datos de só os McDonalds\n",
    "\n",
    "fastFoodMcD = fastFoodLimpo[fastFoodLimpo['name'] == \"McDonald's\"]\n",
    "fastFoodMcD.plot(kind=\"scatter\", x=\"longitude\", y=\"latitude\", alpha=0.2, \n",
    "                  c=fastFoodMcD['codigoPostal'], cmap=plt.get_cmap(\"jet\"))"
   ]
  },
  {
   "cell_type": "code",
   "execution_count": 49,
   "metadata": {
    "colab": {
     "base_uri": "https://localhost:8080/",
     "height": 271
    },
    "executionInfo": {
     "elapsed": 600,
     "status": "ok",
     "timestamp": 1645473380191,
     "user": {
      "displayName": "Alejandro de Nicolás Gómez",
      "photoUrl": "https://lh3.googleusercontent.com/a-/AOh14Gh03ewBLwb-Yoi0H0aNW6rxS0A0MnSiXeSc5PWw=s64",
      "userId": "01925498379162565234"
     },
     "user_tz": -60
    },
    "id": "gQQI99hyU95B",
    "outputId": "311b192c-c307-490e-fca6-bd6b8e62ddfc"
   },
   "outputs": [
    {
     "data": {
      "text/plain": [
       "<AxesSubplot:xlabel='longitude', ylabel='latitude'>"
      ]
     },
     "execution_count": 49,
     "metadata": {},
     "output_type": "execute_result"
    },
    {
     "data": {
      "image/png": "[encoded data removed]",
      "text/plain": [
       "<Figure size 432x288 with 2 Axes>"
      ]
     },
     "metadata": {
      "needs_background": "light"
     },
     "output_type": "display_data"
    }
   ],
   "source": [
    "#Poderíamos ver tamén os datos de só os Burger King\n",
    "\n",
    "fastFoodNoMcD = fastFoodLimpo[fastFoodLimpo['name'] == \"Burger King\"]\n",
    "fastFoodNoMcD.plot(kind=\"scatter\", x=\"longitude\", y=\"latitude\", alpha=0.2, \n",
    "                  c=fastFoodNoMcD['codigoPostal'], cmap=plt.get_cmap(\"jet\"))"
   ]
  },
  {
   "cell_type": "markdown",
   "metadata": {
    "id": "bs1rYmuq84NI"
   },
   "source": [
    "**A distribución dos McDonald's e Burger King segue máis ou menos a mesma forma que a xeral dos restaurantes**"
   ]
  },
  {
   "cell_type": "markdown",
   "metadata": {
    "id": "J0CL4rY61ZVz"
   },
   "source": [
    "## Cambios nas columnas de date"
   ]
  },
  {
   "cell_type": "markdown",
   "metadata": {
    "id": "5JVxD_FP-rtu"
   },
   "source": [
    "### Traballo coas columnas"
   ]
  },
  {
   "cell_type": "markdown",
   "metadata": {
    "id": "K5Wl_j4w3g8s"
   },
   "source": [
    "Vou comprobar de novo todos os datos, do dataframe xa \"limpo\", para ver se podo explorar algo máis"
   ]
  },
  {
   "cell_type": "code",
   "execution_count": 50,
   "metadata": {
    "id": "rPvUmFd45bv5"
   },
   "outputs": [],
   "source": [
    "#primeiro, fago unha copia do que xa tiña\n",
    "fastFoodLimpoV2 = fastFoodLimpo.copy(deep=True)"
   ]
  },
  {
   "cell_type": "code",
   "execution_count": 51,
   "metadata": {
    "colab": {
     "base_uri": "https://localhost:8080/",
     "height": 514
    },
    "executionInfo": {
     "elapsed": 4,
     "status": "ok",
     "timestamp": 1645474599554,
     "user": {
      "displayName": "Alejandro de Nicolás Gómez",
      "photoUrl": "https://lh3.googleusercontent.com/a-/AOh14Gh03ewBLwb-Yoi0H0aNW6rxS0A0MnSiXeSc5PWw=s64",
      "userId": "01925498379162565234"
     },
     "user_tz": -60
    },
    "id": "iDcxCSB73GPW",
    "outputId": "b77aa8aa-d754-4f76-e80b-c62270be945d"
   },
   "outputs": [
    {
     "data": {
      "text/html": [
       "<div>\n",
       "<style scoped>\n",
       "    .dataframe tbody tr th:only-of-type {\n",
       "        vertical-align: middle;\n",
       "    }\n",
       "\n",
       "    .dataframe tbody tr th {\n",
       "        vertical-align: top;\n",
       "    }\n",
       "\n",
       "    .dataframe thead th {\n",
       "        text-align: right;\n",
       "    }\n",
       "</style>\n",
       "<table border=\"1\" class=\"dataframe\">\n",
       "  <thead>\n",
       "    <tr style=\"text-align: right;\">\n",
       "      <th></th>\n",
       "      <th>index</th>\n",
       "      <th>id</th>\n",
       "      <th>dateAdded</th>\n",
       "      <th>dateUpdated</th>\n",
       "      <th>address</th>\n",
       "      <th>categories</th>\n",
       "      <th>city</th>\n",
       "      <th>country</th>\n",
       "      <th>keys</th>\n",
       "      <th>latitude</th>\n",
       "      <th>longitude</th>\n",
       "      <th>name</th>\n",
       "      <th>postalCode</th>\n",
       "      <th>province</th>\n",
       "      <th>sourceURLs</th>\n",
       "      <th>websites</th>\n",
       "      <th>codigoPostal</th>\n",
       "    </tr>\n",
       "  </thead>\n",
       "  <tbody>\n",
       "    <tr>\n",
       "      <th>3810</th>\n",
       "      <td>3810</td>\n",
       "      <td>AVzX6z5bLD2H7whiWxUL</td>\n",
       "      <td>2017-06-24T02:25:37Z</td>\n",
       "      <td>2018-06-03T09:47:10Z</td>\n",
       "      <td>2681 E 120th Ave</td>\n",
       "      <td>Fast Food</td>\n",
       "      <td>Denver</td>\n",
       "      <td>US</td>\n",
       "      <td>us/co/denver/2681e120thave/-791445730</td>\n",
       "      <td>39.914</td>\n",
       "      <td>-104.954</td>\n",
       "      <td>Wendy's</td>\n",
       "      <td>80233</td>\n",
       "      <td>CO</td>\n",
       "      <td>https://foursquare.com/v/wendys/4b8acb2df964a5...</td>\n",
       "      <td>http://www.wendys.com,http://wendys.com/\\r</td>\n",
       "      <td>80233</td>\n",
       "    </tr>\n",
       "    <tr>\n",
       "      <th>7380</th>\n",
       "      <td>7380</td>\n",
       "      <td>AVwdGcJHkufWRAb52Tmt</td>\n",
       "      <td>2016-06-20T15:56:35Z</td>\n",
       "      <td>2018-05-13T02:56:55Z</td>\n",
       "      <td>4001 Sunset Dr</td>\n",
       "      <td>Fast Food Restaurant, American Restaurant, and...</td>\n",
       "      <td>San Angelo</td>\n",
       "      <td>US</td>\n",
       "      <td>us/tx/sanangelo/4001sunsetdr/-345832572</td>\n",
       "      <td>31.428</td>\n",
       "      <td>-100.496</td>\n",
       "      <td>Chick-fil-A</td>\n",
       "      <td>76904</td>\n",
       "      <td>TX</td>\n",
       "      <td>https://www.allmenus.com/tx/san-angelo/179383-...</td>\n",
       "      <td>http://www.chick-fil-a.com/sunsetmall,http://w...</td>\n",
       "      <td>76904</td>\n",
       "    </tr>\n",
       "    <tr>\n",
       "      <th>2827</th>\n",
       "      <td>2827</td>\n",
       "      <td>AVwdGsdskufWRAb52WFJ</td>\n",
       "      <td>2016-05-15T05:33:47Z</td>\n",
       "      <td>2018-06-12T06:31:52Z</td>\n",
       "      <td>3475 Braselton Hwy</td>\n",
       "      <td>Fast Food</td>\n",
       "      <td>Dacula</td>\n",
       "      <td>US</td>\n",
       "      <td>us/ga/dacula/3475braseltonhwy/93075755</td>\n",
       "      <td>34.071</td>\n",
       "      <td>-83.914</td>\n",
       "      <td>Arby's</td>\n",
       "      <td>30019</td>\n",
       "      <td>GA</td>\n",
       "      <td>https://www.yellowpages.com/dacula-ga/mip/arby...</td>\n",
       "      <td>http://www.arbys.com,http://locations.arbys.co...</td>\n",
       "      <td>30019</td>\n",
       "    </tr>\n",
       "    <tr>\n",
       "      <th>2238</th>\n",
       "      <td>2238</td>\n",
       "      <td>AVweDWXmIN2L1WUf1kga</td>\n",
       "      <td>2016-04-01T07:02:20Z</td>\n",
       "      <td>2018-06-16T18:12:05Z</td>\n",
       "      <td>2455 Shawnee Rd</td>\n",
       "      <td>Fast Food Restaurant</td>\n",
       "      <td>Lima</td>\n",
       "      <td>US</td>\n",
       "      <td>us/oh/lima/2455shawneerd/-1161002137</td>\n",
       "      <td>40.705</td>\n",
       "      <td>-84.151</td>\n",
       "      <td>McDonald's</td>\n",
       "      <td>45806</td>\n",
       "      <td>OH</td>\n",
       "      <td>https://foursquare.com/v/mcdonalds/4cf2bced1d1...</td>\n",
       "      <td>http://www.mcdonalds.com/?cid=RF:YXT_FM:TP::Ye...</td>\n",
       "      <td>45806</td>\n",
       "    </tr>\n",
       "    <tr>\n",
       "      <th>5517</th>\n",
       "      <td>5517</td>\n",
       "      <td>AVwdu1mz_7pvs4fz8wJ3</td>\n",
       "      <td>2015-10-20T04:55:37Z</td>\n",
       "      <td>2018-05-29T01:23:46Z</td>\n",
       "      <td>392 N Sam Houston Pkwy E</td>\n",
       "      <td>Fast Food Restaurant North Houston</td>\n",
       "      <td>Houston</td>\n",
       "      <td>US</td>\n",
       "      <td>us/tx/houston/392nsamhoustonpkwye/-1161002137</td>\n",
       "      <td>29.939</td>\n",
       "      <td>-95.398</td>\n",
       "      <td>McDonald's</td>\n",
       "      <td>77060</td>\n",
       "      <td>TX</td>\n",
       "      <td>https://foursquare.com/v/mcdonalds/4bd8944911d...</td>\n",
       "      <td>http://mcdonalds.com,http://mcdonalds.com/\\r</td>\n",
       "      <td>77060</td>\n",
       "    </tr>\n",
       "  </tbody>\n",
       "</table>\n",
       "</div>"
      ],
      "text/plain": [
       "      index                    id             dateAdded           dateUpdated  \\\n",
       "3810   3810  AVzX6z5bLD2H7whiWxUL  2017-06-24T02:25:37Z  2018-06-03T09:47:10Z   \n",
       "7380   7380  AVwdGcJHkufWRAb52Tmt  2016-06-20T15:56:35Z  2018-05-13T02:56:55Z   \n",
       "2827   2827  AVwdGsdskufWRAb52WFJ  2016-05-15T05:33:47Z  2018-06-12T06:31:52Z   \n",
       "2238   2238  AVweDWXmIN2L1WUf1kga  2016-04-01T07:02:20Z  2018-06-16T18:12:05Z   \n",
       "5517   5517  AVwdu1mz_7pvs4fz8wJ3  2015-10-20T04:55:37Z  2018-05-29T01:23:46Z   \n",
       "\n",
       "                       address  \\\n",
       "3810          2681 E 120th Ave   \n",
       "7380            4001 Sunset Dr   \n",
       "2827        3475 Braselton Hwy   \n",
       "2238           2455 Shawnee Rd   \n",
       "5517  392 N Sam Houston Pkwy E   \n",
       "\n",
       "                                             categories        city country  \\\n",
       "3810                                          Fast Food      Denver      US   \n",
       "7380  Fast Food Restaurant, American Restaurant, and...  San Angelo      US   \n",
       "2827                                          Fast Food      Dacula      US   \n",
       "2238                               Fast Food Restaurant        Lima      US   \n",
       "5517                 Fast Food Restaurant North Houston     Houston      US   \n",
       "\n",
       "                                               keys  latitude  longitude  \\\n",
       "3810          us/co/denver/2681e120thave/-791445730    39.914   -104.954   \n",
       "7380        us/tx/sanangelo/4001sunsetdr/-345832572    31.428   -100.496   \n",
       "2827         us/ga/dacula/3475braseltonhwy/93075755    34.071    -83.914   \n",
       "2238           us/oh/lima/2455shawneerd/-1161002137    40.705    -84.151   \n",
       "5517  us/tx/houston/392nsamhoustonpkwye/-1161002137    29.939    -95.398   \n",
       "\n",
       "             name postalCode province  \\\n",
       "3810      Wendy's      80233       CO   \n",
       "7380  Chick-fil-A      76904       TX   \n",
       "2827       Arby's      30019       GA   \n",
       "2238   McDonald's      45806       OH   \n",
       "5517   McDonald's      77060       TX   \n",
       "\n",
       "                                             sourceURLs  \\\n",
       "3810  https://foursquare.com/v/wendys/4b8acb2df964a5...   \n",
       "7380  https://www.allmenus.com/tx/san-angelo/179383-...   \n",
       "2827  https://www.yellowpages.com/dacula-ga/mip/arby...   \n",
       "2238  https://foursquare.com/v/mcdonalds/4cf2bced1d1...   \n",
       "5517  https://foursquare.com/v/mcdonalds/4bd8944911d...   \n",
       "\n",
       "                                               websites  codigoPostal  \n",
       "3810         http://www.wendys.com,http://wendys.com/\\r         80233  \n",
       "7380  http://www.chick-fil-a.com/sunsetmall,http://w...         76904  \n",
       "2827  http://www.arbys.com,http://locations.arbys.co...         30019  \n",
       "2238  http://www.mcdonalds.com/?cid=RF:YXT_FM:TP::Ye...         45806  \n",
       "5517       http://mcdonalds.com,http://mcdonalds.com/\\r         77060  "
      ]
     },
     "execution_count": 51,
     "metadata": {},
     "output_type": "execute_result"
    }
   ],
   "source": [
    "fastFoodLimpoV2.sample(5)"
   ]
  },
  {
   "cell_type": "markdown",
   "metadata": {
    "id": "G143x1qV3pST"
   },
   "source": [
    "O formato das datas en dateAdded e dateUpdated non me permiten traballar fácilmente. Podo intentar buscar unha forma de cambialos"
   ]
  },
  {
   "cell_type": "code",
   "execution_count": 52,
   "metadata": {
    "colab": {
     "base_uri": "https://localhost:8080/"
    },
    "executionInfo": {
     "elapsed": 3,
     "status": "ok",
     "timestamp": 1645474600507,
     "user": {
      "displayName": "Alejandro de Nicolás Gómez",
      "photoUrl": "https://lh3.googleusercontent.com/a-/AOh14Gh03ewBLwb-Yoi0H0aNW6rxS0A0MnSiXeSc5PWw=s64",
      "userId": "01925498379162565234"
     },
     "user_tz": -60
    },
    "id": "92vQ5GSd1baC",
    "outputId": "462fba90-741c-44ef-bd82-80605eabeb4a"
   },
   "outputs": [
    {
     "data": {
      "text/plain": [
       "4122    2017-06-19T15:28:18Z\n",
       "9551    2016-06-08T16:04:11Z\n",
       "4946    2016-01-06T18:24:35Z\n",
       "3304    2016-06-08T16:17:58Z\n",
       "5695    2017-02-16T21:49:26Z\n",
       "Name: dateAdded, dtype: object"
      ]
     },
     "execution_count": 52,
     "metadata": {},
     "output_type": "execute_result"
    }
   ],
   "source": [
    "fastFoodLimpoV2['dateAdded'].sample(5)"
   ]
  },
  {
   "cell_type": "code",
   "execution_count": 53,
   "metadata": {
    "colab": {
     "base_uri": "https://localhost:8080/"
    },
    "executionInfo": {
     "elapsed": 2,
     "status": "ok",
     "timestamp": 1645474600877,
     "user": {
      "displayName": "Alejandro de Nicolás Gómez",
      "photoUrl": "https://lh3.googleusercontent.com/a-/AOh14Gh03ewBLwb-Yoi0H0aNW6rxS0A0MnSiXeSc5PWw=s64",
      "userId": "01925498379162565234"
     },
     "user_tz": -60
    },
    "id": "lcx-UK071iYb",
    "outputId": "8a7e7233-5868-4cb3-fb40-19045836d1ff"
   },
   "outputs": [
    {
     "data": {
      "text/plain": [
       "1962    2018-06-17T23:36:04Z\n",
       "7193    2018-05-14T06:49:14Z\n",
       "8810    2018-04-26T01:59:17Z\n",
       "2818    2018-06-12T06:33:37Z\n",
       "8975    2018-04-18T14:22:22Z\n",
       "Name: dateUpdated, dtype: object"
      ]
     },
     "execution_count": 53,
     "metadata": {},
     "output_type": "execute_result"
    }
   ],
   "source": [
    "fastFoodLimpoV2['dateUpdated'].sample(5)"
   ]
  },
  {
   "cell_type": "markdown",
   "metadata": {
    "id": "wKeJ9OwI4ZGL"
   },
   "source": [
    "Como non teño claro de primeiras como quero facer o traballo de datos, vou probar primeiro con un dato"
   ]
  },
  {
   "cell_type": "code",
   "execution_count": 54,
   "metadata": {
    "colab": {
     "base_uri": "https://localhost:8080/",
     "height": 36
    },
    "executionInfo": {
     "elapsed": 259,
     "status": "ok",
     "timestamp": 1645474603218,
     "user": {
      "displayName": "Alejandro de Nicolás Gómez",
      "photoUrl": "https://lh3.googleusercontent.com/a-/AOh14Gh03ewBLwb-Yoi0H0aNW6rxS0A0MnSiXeSc5PWw=s64",
      "userId": "01925498379162565234"
     },
     "user_tz": -60
    },
    "id": "ApptxEYu3Zh-",
    "outputId": "84efa78a-51a3-4a24-d943-58d577c668cb"
   },
   "outputs": [
    {
     "data": {
      "text/plain": [
       "'2018-06-26T03:00:14Z'"
      ]
     },
     "execution_count": 54,
     "metadata": {},
     "output_type": "execute_result"
    }
   ],
   "source": [
    "datoParaLimpar = fastFoodLimpoV2['dateUpdated'][0]\n",
    "datoParaLimpar"
   ]
  },
  {
   "cell_type": "code",
   "execution_count": 55,
   "metadata": {
    "colab": {
     "base_uri": "https://localhost:8080/",
     "height": 36
    },
    "executionInfo": {
     "elapsed": 4,
     "status": "ok",
     "timestamp": 1645474603576,
     "user": {
      "displayName": "Alejandro de Nicolás Gómez",
      "photoUrl": "https://lh3.googleusercontent.com/a-/AOh14Gh03ewBLwb-Yoi0H0aNW6rxS0A0MnSiXeSc5PWw=s64",
      "userId": "01925498379162565234"
     },
     "user_tz": -60
    },
    "id": "qtDbp1pQ4kkL",
    "outputId": "24812536-2642-4ae1-8a28-73581618e8be"
   },
   "outputs": [
    {
     "data": {
      "text/plain": [
       "'20180626'"
      ]
     },
     "execution_count": 55,
     "metadata": {},
     "output_type": "execute_result"
    }
   ],
   "source": [
    "datoParaLimpar[:10].replace('-','')"
   ]
  },
  {
   "cell_type": "markdown",
   "metadata": {
    "id": "mtu7yqdx4yKz"
   },
   "source": [
    "Xa vexo o que quero, fago a limpeza das columnas"
   ]
  },
  {
   "cell_type": "code",
   "execution_count": 56,
   "metadata": {
    "colab": {
     "base_uri": "https://localhost:8080/"
    },
    "executionInfo": {
     "elapsed": 2,
     "status": "ok",
     "timestamp": 1645474603831,
     "user": {
      "displayName": "Alejandro de Nicolás Gómez",
      "photoUrl": "https://lh3.googleusercontent.com/a-/AOh14Gh03ewBLwb-Yoi0H0aNW6rxS0A0MnSiXeSc5PWw=s64",
      "userId": "01925498379162565234"
     },
     "user_tz": -60
    },
    "id": "5mT8iwiK4qBb",
    "outputId": "414a706c-32bc-4534-d155-22902418b148"
   },
   "outputs": [
    {
     "data": {
      "text/plain": [
       "9174    20180418\n",
       "6273    20180528\n",
       "7700    20180509\n",
       "6277    20180528\n",
       "7225    20180513\n",
       "          ...   \n",
       "3173    20180607\n",
       "7753    20180509\n",
       "464     20180622\n",
       "465     20180622\n",
       "5722    20180528\n",
       "Name: dataActualizado, Length: 9952, dtype: int64"
      ]
     },
     "execution_count": 56,
     "metadata": {},
     "output_type": "execute_result"
    }
   ],
   "source": [
    "fastFoodLimpoV2['dataActualizado'] = fastFoodLimpoV2['dateUpdated'].map(lambda x: x[:10])\n",
    "fastFoodLimpoV2['dataActualizado'] = pd.to_numeric(fastFoodLimpoV2['dataActualizado'].str.replace('-',''))\n",
    "fastFoodLimpoV2['dataActualizado']"
   ]
  },
  {
   "cell_type": "code",
   "execution_count": 57,
   "metadata": {
    "colab": {
     "base_uri": "https://localhost:8080/"
    },
    "executionInfo": {
     "elapsed": 4,
     "status": "ok",
     "timestamp": 1645474604373,
     "user": {
      "displayName": "Alejandro de Nicolás Gómez",
      "photoUrl": "https://lh3.googleusercontent.com/a-/AOh14Gh03ewBLwb-Yoi0H0aNW6rxS0A0MnSiXeSc5PWw=s64",
      "userId": "01925498379162565234"
     },
     "user_tz": -60
    },
    "id": "DQGRwZ1M6fPo",
    "outputId": "4afd003c-fa12-462b-9f95-fcc611891a25"
   },
   "outputs": [
    {
     "data": {
      "text/plain": [
       "9174    20160421\n",
       "6273    20170630\n",
       "7700    20170701\n",
       "6277    20170619\n",
       "7225    20170619\n",
       "          ...   \n",
       "3173    20161026\n",
       "7753    20170719\n",
       "464     20170613\n",
       "465     20170613\n",
       "5722    20170719\n",
       "Name: dataEngadido, Length: 9952, dtype: int64"
      ]
     },
     "execution_count": 57,
     "metadata": {},
     "output_type": "execute_result"
    }
   ],
   "source": [
    "fastFoodLimpoV2['dataEngadido'] = fastFoodLimpoV2['dateAdded'].map(lambda x: x[:10])\n",
    "fastFoodLimpoV2['dataEngadido'] = pd.to_numeric(fastFoodLimpoV2['dataEngadido'].str.replace('-',''))\n",
    "fastFoodLimpoV2['dataEngadido']"
   ]
  },
  {
   "cell_type": "markdown",
   "metadata": {
    "id": "_t9SpXZI7Fsg"
   },
   "source": [
    "Como teño unha copia, non teño problema en borrar as columnas orixinais das datas"
   ]
  },
  {
   "cell_type": "code",
   "execution_count": 58,
   "metadata": {
    "id": "79_QyEN97Eso"
   },
   "outputs": [],
   "source": [
    "fastFoodLimpoV2.drop('dateAdded', axis=1, inplace=True)\n",
    "fastFoodLimpoV2.drop('dateUpdated', axis=1, inplace=True)"
   ]
  },
  {
   "cell_type": "markdown",
   "metadata": {
    "id": "fpx2R9KND-ha"
   },
   "source": [
    "### Resultados nos cambios a date"
   ]
  },
  {
   "cell_type": "markdown",
   "metadata": {
    "id": "ozTUagLt8F2e"
   },
   "source": [
    "Ao aumentar de novo a cantidade de columnas numéricas, aumenta o xogo que podemos facer de forma fácil cos datos"
   ]
  },
  {
   "cell_type": "code",
   "execution_count": 59,
   "metadata": {
    "colab": {
     "base_uri": "https://localhost:8080/"
    },
    "executionInfo": {
     "elapsed": 234,
     "status": "ok",
     "timestamp": 1645475224428,
     "user": {
      "displayName": "Alejandro de Nicolás Gómez",
      "photoUrl": "https://lh3.googleusercontent.com/a-/AOh14Gh03ewBLwb-Yoi0H0aNW6rxS0A0MnSiXeSc5PWw=s64",
      "userId": "01925498379162565234"
     },
     "user_tz": -60
    },
    "id": "QoT52Oda90O_",
    "outputId": "88acf38d-677d-49c2-f292-30636d68c4aa"
   },
   "outputs": [
    {
     "name": "stdout",
     "output_type": "stream",
     "text": [
      "<class 'pandas.core.frame.DataFrame'>\n",
      "Int64Index: 9952 entries, 9174 to 5722\n",
      "Data columns (total 17 columns):\n",
      " #   Column           Non-Null Count  Dtype  \n",
      "---  ------           --------------  -----  \n",
      " 0   index            9952 non-null   int64  \n",
      " 1   id               9952 non-null   object \n",
      " 2   address          9952 non-null   object \n",
      " 3   categories       9952 non-null   object \n",
      " 4   city             9952 non-null   object \n",
      " 5   country          9952 non-null   object \n",
      " 6   keys             9952 non-null   object \n",
      " 7   latitude         9952 non-null   float64\n",
      " 8   longitude        9952 non-null   float64\n",
      " 9   name             9952 non-null   object \n",
      " 10  postalCode       9952 non-null   object \n",
      " 11  province         9952 non-null   object \n",
      " 12  sourceURLs       9952 non-null   object \n",
      " 13  websites         9952 non-null   object \n",
      " 14  codigoPostal     9952 non-null   int64  \n",
      " 15  dataActualizado  9952 non-null   int64  \n",
      " 16  dataEngadido     9952 non-null   int64  \n",
      "dtypes: float64(2), int64(4), object(11)\n",
      "memory usage: 1.6+ MB\n"
     ]
    }
   ],
   "source": [
    "fastFoodLimpoV2.info()"
   ]
  },
  {
   "cell_type": "code",
   "execution_count": 60,
   "metadata": {
    "colab": {
     "base_uri": "https://localhost:8080/",
     "height": 301
    },
    "executionInfo": {
     "elapsed": 241,
     "status": "ok",
     "timestamp": 1645474796672,
     "user": {
      "displayName": "Alejandro de Nicolás Gómez",
      "photoUrl": "https://lh3.googleusercontent.com/a-/AOh14Gh03ewBLwb-Yoi0H0aNW6rxS0A0MnSiXeSc5PWw=s64",
      "userId": "01925498379162565234"
     },
     "user_tz": -60
    },
    "id": "7lAVnI1M64Hf",
    "outputId": "a406be84-f467-48d4-ca15-f49dd6cdc5e4"
   },
   "outputs": [
    {
     "data": {
      "text/html": [
       "<div>\n",
       "<style scoped>\n",
       "    .dataframe tbody tr th:only-of-type {\n",
       "        vertical-align: middle;\n",
       "    }\n",
       "\n",
       "    .dataframe tbody tr th {\n",
       "        vertical-align: top;\n",
       "    }\n",
       "\n",
       "    .dataframe thead th {\n",
       "        text-align: right;\n",
       "    }\n",
       "</style>\n",
       "<table border=\"1\" class=\"dataframe\">\n",
       "  <thead>\n",
       "    <tr style=\"text-align: right;\">\n",
       "      <th></th>\n",
       "      <th>index</th>\n",
       "      <th>latitude</th>\n",
       "      <th>longitude</th>\n",
       "      <th>codigoPostal</th>\n",
       "      <th>dataActualizado</th>\n",
       "      <th>dataEngadido</th>\n",
       "    </tr>\n",
       "  </thead>\n",
       "  <tbody>\n",
       "    <tr>\n",
       "      <th>count</th>\n",
       "      <td>9952.000</td>\n",
       "      <td>9952.000</td>\n",
       "      <td>9952.000</td>\n",
       "      <td>9952.000</td>\n",
       "      <td>9952.000</td>\n",
       "      <td>9952.000</td>\n",
       "    </tr>\n",
       "    <tr>\n",
       "      <th>mean</th>\n",
       "      <td>4996.343</td>\n",
       "      <td>37.350</td>\n",
       "      <td>-92.810</td>\n",
       "      <td>54042.295</td>\n",
       "      <td>20180546.391</td>\n",
       "      <td>20160416.147</td>\n",
       "    </tr>\n",
       "    <tr>\n",
       "      <th>std</th>\n",
       "      <td>2888.058</td>\n",
       "      <td>4.929</td>\n",
       "      <td>15.233</td>\n",
       "      <td>27970.301</td>\n",
       "      <td>70.657</td>\n",
       "      <td>7672.311</td>\n",
       "    </tr>\n",
       "    <tr>\n",
       "      <th>min</th>\n",
       "      <td>0.000</td>\n",
       "      <td>24.729</td>\n",
       "      <td>-124.243</td>\n",
       "      <td>1001.000</td>\n",
       "      <td>20180407.000</td>\n",
       "      <td>20140103.000</td>\n",
       "    </tr>\n",
       "    <tr>\n",
       "      <th>25%</th>\n",
       "      <td>2493.750</td>\n",
       "      <td>33.790</td>\n",
       "      <td>-101.862</td>\n",
       "      <td>30604.750</td>\n",
       "      <td>20180512.000</td>\n",
       "      <td>20151109.000</td>\n",
       "    </tr>\n",
       "    <tr>\n",
       "      <th>50%</th>\n",
       "      <td>4994.500</td>\n",
       "      <td>37.724</td>\n",
       "      <td>-87.901</td>\n",
       "      <td>50148.000</td>\n",
       "      <td>20180531.000</td>\n",
       "      <td>20160403.000</td>\n",
       "    </tr>\n",
       "    <tr>\n",
       "      <th>75%</th>\n",
       "      <td>7502.250</td>\n",
       "      <td>41.137</td>\n",
       "      <td>-81.441</td>\n",
       "      <td>78727.000</td>\n",
       "      <td>20180614.250</td>\n",
       "      <td>20170303.000</td>\n",
       "    </tr>\n",
       "    <tr>\n",
       "      <th>max</th>\n",
       "      <td>9999.000</td>\n",
       "      <td>48.784</td>\n",
       "      <td>-67.463</td>\n",
       "      <td>99403.000</td>\n",
       "      <td>20180626.000</td>\n",
       "      <td>20180626.000</td>\n",
       "    </tr>\n",
       "  </tbody>\n",
       "</table>\n",
       "</div>"
      ],
      "text/plain": [
       "         index  latitude  longitude  codigoPostal  dataActualizado  \\\n",
       "count 9952.000  9952.000   9952.000      9952.000         9952.000   \n",
       "mean  4996.343    37.350    -92.810     54042.295     20180546.391   \n",
       "std   2888.058     4.929     15.233     27970.301           70.657   \n",
       "min      0.000    24.729   -124.243      1001.000     20180407.000   \n",
       "25%   2493.750    33.790   -101.862     30604.750     20180512.000   \n",
       "50%   4994.500    37.724    -87.901     50148.000     20180531.000   \n",
       "75%   7502.250    41.137    -81.441     78727.000     20180614.250   \n",
       "max   9999.000    48.784    -67.463     99403.000     20180626.000   \n",
       "\n",
       "       dataEngadido  \n",
       "count      9952.000  \n",
       "mean   20160416.147  \n",
       "std        7672.311  \n",
       "min    20140103.000  \n",
       "25%    20151109.000  \n",
       "50%    20160403.000  \n",
       "75%    20170303.000  \n",
       "max    20180626.000  "
      ]
     },
     "execution_count": 60,
     "metadata": {},
     "output_type": "execute_result"
    }
   ],
   "source": [
    "fastFoodLimpoV2.describe()"
   ]
  },
  {
   "cell_type": "markdown",
   "metadata": {
    "id": "DsH_4SC1EITg"
   },
   "source": [
    "**Os datos deste dataset foron engadidos do 2014 ao 2018, e actualizados no 2018**"
   ]
  },
  {
   "cell_type": "code",
   "execution_count": 61,
   "metadata": {
    "colab": {
     "base_uri": "https://localhost:8080/",
     "height": 238
    },
    "executionInfo": {
     "elapsed": 6,
     "status": "ok",
     "timestamp": 1645474797469,
     "user": {
      "displayName": "Alejandro de Nicolás Gómez",
      "photoUrl": "https://lh3.googleusercontent.com/a-/AOh14Gh03ewBLwb-Yoi0H0aNW6rxS0A0MnSiXeSc5PWw=s64",
      "userId": "01925498379162565234"
     },
     "user_tz": -60
    },
    "id": "1phqWiHR66n4",
    "outputId": "a183278d-b567-4b9f-8c23-8bddbacb7385"
   },
   "outputs": [
    {
     "data": {
      "text/html": [
       "<div>\n",
       "<style scoped>\n",
       "    .dataframe tbody tr th:only-of-type {\n",
       "        vertical-align: middle;\n",
       "    }\n",
       "\n",
       "    .dataframe tbody tr th {\n",
       "        vertical-align: top;\n",
       "    }\n",
       "\n",
       "    .dataframe thead th {\n",
       "        text-align: right;\n",
       "    }\n",
       "</style>\n",
       "<table border=\"1\" class=\"dataframe\">\n",
       "  <thead>\n",
       "    <tr style=\"text-align: right;\">\n",
       "      <th></th>\n",
       "      <th>index</th>\n",
       "      <th>latitude</th>\n",
       "      <th>longitude</th>\n",
       "      <th>codigoPostal</th>\n",
       "      <th>dataActualizado</th>\n",
       "      <th>dataEngadido</th>\n",
       "    </tr>\n",
       "  </thead>\n",
       "  <tbody>\n",
       "    <tr>\n",
       "      <th>index</th>\n",
       "      <td>1.000</td>\n",
       "      <td>-0.050</td>\n",
       "      <td>0.049</td>\n",
       "      <td>-0.028</td>\n",
       "      <td>-0.946</td>\n",
       "      <td>0.009</td>\n",
       "    </tr>\n",
       "    <tr>\n",
       "      <th>latitude</th>\n",
       "      <td>-0.050</td>\n",
       "      <td>1.000</td>\n",
       "      <td>0.062</td>\n",
       "      <td>-0.131</td>\n",
       "      <td>0.050</td>\n",
       "      <td>0.012</td>\n",
       "    </tr>\n",
       "    <tr>\n",
       "      <th>longitude</th>\n",
       "      <td>0.049</td>\n",
       "      <td>0.062</td>\n",
       "      <td>1.000</td>\n",
       "      <td>-0.938</td>\n",
       "      <td>-0.050</td>\n",
       "      <td>0.091</td>\n",
       "    </tr>\n",
       "    <tr>\n",
       "      <th>codigoPostal</th>\n",
       "      <td>-0.028</td>\n",
       "      <td>-0.131</td>\n",
       "      <td>-0.938</td>\n",
       "      <td>1.000</td>\n",
       "      <td>0.028</td>\n",
       "      <td>-0.085</td>\n",
       "    </tr>\n",
       "    <tr>\n",
       "      <th>dataActualizado</th>\n",
       "      <td>-0.946</td>\n",
       "      <td>0.050</td>\n",
       "      <td>-0.050</td>\n",
       "      <td>0.028</td>\n",
       "      <td>1.000</td>\n",
       "      <td>-0.014</td>\n",
       "    </tr>\n",
       "    <tr>\n",
       "      <th>dataEngadido</th>\n",
       "      <td>0.009</td>\n",
       "      <td>0.012</td>\n",
       "      <td>0.091</td>\n",
       "      <td>-0.085</td>\n",
       "      <td>-0.014</td>\n",
       "      <td>1.000</td>\n",
       "    </tr>\n",
       "  </tbody>\n",
       "</table>\n",
       "</div>"
      ],
      "text/plain": [
       "                 index  latitude  longitude  codigoPostal  dataActualizado  \\\n",
       "index            1.000    -0.050      0.049        -0.028           -0.946   \n",
       "latitude        -0.050     1.000      0.062        -0.131            0.050   \n",
       "longitude        0.049     0.062      1.000        -0.938           -0.050   \n",
       "codigoPostal    -0.028    -0.131     -0.938         1.000            0.028   \n",
       "dataActualizado -0.946     0.050     -0.050         0.028            1.000   \n",
       "dataEngadido     0.009     0.012      0.091        -0.085           -0.014   \n",
       "\n",
       "                 dataEngadido  \n",
       "index                   0.009  \n",
       "latitude                0.012  \n",
       "longitude               0.091  \n",
       "codigoPostal           -0.085  \n",
       "dataActualizado        -0.014  \n",
       "dataEngadido            1.000  "
      ]
     },
     "execution_count": 61,
     "metadata": {},
     "output_type": "execute_result"
    }
   ],
   "source": [
    "fastFoodLimpoV2.corr()"
   ]
  },
  {
   "cell_type": "markdown",
   "metadata": {
    "id": "4Bkhwd7O8a52"
   },
   "source": [
    "**O índice ten unha correlación moi grande coa data de actualización. Pode que se foran engadindo ao dataset no momento que foron actualizados?**"
   ]
  },
  {
   "cell_type": "code",
   "execution_count": null,
   "metadata": {
    "id": "fiaaJB5V8NUC"
   },
   "outputs": [],
   "source": []
  }
 ],
 "metadata": {
  "colab": {
   "authorship_tag": "ABX9TyN1ZXa9RH+NVLddPb+HCSLP",
   "collapsed_sections": [
    "mPi1rqXQ-vkY",
    "bNovKg9z-WOg",
    "eGkWwjUK-rfU",
    "A7RBSNCqqOn_",
    "5JVxD_FP-rtu"
   ],
   "name": "exercicioDAE.ipynb",
   "provenance": []
  },
  "kernelspec": {
   "display_name": "Python 3 (ipykernel)",
   "language": "python",
   "name": "python3"
  },
  "language_info": {
   "codemirror_mode": {
    "name": "ipython",
    "version": 3
   },
   "file_extension": ".py",
   "mimetype": "text/x-python",
   "name": "python",
   "nbconvert_exporter": "python",
   "pygments_lexer": "ipython3",
   "version": "3.8.12"
  }
 },
 "nbformat": 4,
 "nbformat_minor": 1
}
